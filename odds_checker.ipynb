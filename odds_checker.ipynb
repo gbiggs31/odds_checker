{
 "cells": [
  {
   "cell_type": "markdown",
   "id": "e0949035",
   "metadata": {},
   "source": [
    "# Goals"
   ]
  },
  {
   "cell_type": "code",
   "execution_count": 1,
   "id": "4f4c7e1b",
   "metadata": {
    "ExecuteTime": {
     "end_time": "2021-04-06T08:55:21.889490Z",
     "start_time": "2021-04-06T08:55:21.879496Z"
    }
   },
   "outputs": [],
   "source": [
    "# goal of this is to do a historical comparison on the accuracy of different sources of odds on football matches\n",
    "# after this is done a secondary goal is to train a model to stack on an odds source and see if that improves accuracy\n",
    "# main hypothesis is that gambling sites will display a bias related to the majority gamblers of that location, e.g. favouring english teams\n",
    "# also, given that gambling sites want to make money and not necessarily be accurate there may be something there to investigate"
   ]
  },
  {
   "cell_type": "code",
   "execution_count": null,
   "id": "70e35bc8",
   "metadata": {},
   "outputs": [],
   "source": [
    "# main things to consider are skybet and 538 for the two competing sources"
   ]
  },
  {
   "cell_type": "markdown",
   "id": "9e324daf",
   "metadata": {},
   "source": [
    "# Admin & Packages"
   ]
  },
  {
   "cell_type": "code",
   "execution_count": 35,
   "id": "6732b60c",
   "metadata": {
    "ExecuteTime": {
     "end_time": "2021-04-06T09:53:18.958433Z",
     "start_time": "2021-04-06T09:53:16.146223Z"
    }
   },
   "outputs": [],
   "source": [
    "import numpy as np\n",
    "import pandas as pd\n",
    "import os\n",
    "import glob\n",
    "import seaborn as sns"
   ]
  },
  {
   "cell_type": "code",
   "execution_count": 3,
   "id": "20a177a1",
   "metadata": {
    "ExecuteTime": {
     "end_time": "2021-04-06T08:56:35.998946Z",
     "start_time": "2021-04-06T08:56:35.983946Z"
    }
   },
   "outputs": [],
   "source": [
    "# add width here"
   ]
  },
  {
   "cell_type": "code",
   "execution_count": 6,
   "id": "1cbe752c",
   "metadata": {
    "ExecuteTime": {
     "end_time": "2021-04-06T09:32:38.244974Z",
     "start_time": "2021-04-06T09:32:38.240990Z"
    }
   },
   "outputs": [],
   "source": [
    "pd.set_option('display.max_columns', None)"
   ]
  },
  {
   "cell_type": "markdown",
   "id": "f80ef0b5",
   "metadata": {},
   "source": [
    "# Gambling Data"
   ]
  },
  {
   "cell_type": "markdown",
   "id": "7878a3e3",
   "metadata": {},
   "source": [
    "## Get gambling data"
   ]
  },
  {
   "cell_type": "code",
   "execution_count": 4,
   "id": "6d899f04",
   "metadata": {
    "ExecuteTime": {
     "end_time": "2021-04-06T09:12:19.005110Z",
     "start_time": "2021-04-06T09:12:18.993124Z"
    }
   },
   "outputs": [],
   "source": [
    "# going to test out betsapi and specifically the events api\n",
    "# ok that costs money\n",
    "# free trial on odds api\n",
    "# api key 0863ba3717e5a27d2447e07b5dd0f0aa\n",
    "# ok that's only future events\n",
    "# ok found a csv of historical results, but only for bet365, so switching focus to that"
   ]
  },
  {
   "cell_type": "code",
   "execution_count": 4,
   "id": "d37aeb14",
   "metadata": {
    "ExecuteTime": {
     "end_time": "2021-04-06T09:32:12.258154Z",
     "start_time": "2021-04-06T09:32:12.231152Z"
    }
   },
   "outputs": [],
   "source": [
    "# pl_data = pd.read_csv(r'data/pl_21.csv')"
   ]
  },
  {
   "cell_type": "code",
   "execution_count": null,
   "id": "d1645a32",
   "metadata": {},
   "outputs": [],
   "source": [
    "# need to make sure to create a holdout group now in case we make preds later\n",
    "# dont want the exploratory analysis to influence work"
   ]
  },
  {
   "cell_type": "code",
   "execution_count": 79,
   "id": "69c1c3b5",
   "metadata": {
    "ExecuteTime": {
     "end_time": "2021-04-06T10:15:30.884233Z",
     "start_time": "2021-04-06T10:15:30.872234Z"
    }
   },
   "outputs": [],
   "source": [
    "import glob\n",
    "files = glob.glob('data/pl*')"
   ]
  },
  {
   "cell_type": "code",
   "execution_count": 80,
   "id": "b2c414d9",
   "metadata": {
    "ExecuteTime": {
     "end_time": "2021-04-06T10:15:31.409252Z",
     "start_time": "2021-04-06T10:15:31.344237Z"
    }
   },
   "outputs": [],
   "source": [
    "pl_data = pd.concat((pd.read_csv(f) for f in files))\n",
    "    "
   ]
  },
  {
   "cell_type": "code",
   "execution_count": 81,
   "id": "62830c49",
   "metadata": {
    "ExecuteTime": {
     "end_time": "2021-04-06T10:15:32.027975Z",
     "start_time": "2021-04-06T10:15:31.916967Z"
    }
   },
   "outputs": [
    {
     "data": {
      "text/html": [
       "<div>\n",
       "<style scoped>\n",
       "    .dataframe tbody tr th:only-of-type {\n",
       "        vertical-align: middle;\n",
       "    }\n",
       "\n",
       "    .dataframe tbody tr th {\n",
       "        vertical-align: top;\n",
       "    }\n",
       "\n",
       "    .dataframe thead th {\n",
       "        text-align: right;\n",
       "    }\n",
       "</style>\n",
       "<table border=\"1\" class=\"dataframe\">\n",
       "  <thead>\n",
       "    <tr style=\"text-align: right;\">\n",
       "      <th></th>\n",
       "      <th>Div</th>\n",
       "      <th>Date</th>\n",
       "      <th>HomeTeam</th>\n",
       "      <th>AwayTeam</th>\n",
       "      <th>FTHG</th>\n",
       "      <th>FTAG</th>\n",
       "      <th>FTR</th>\n",
       "      <th>HTHG</th>\n",
       "      <th>HTAG</th>\n",
       "      <th>HTR</th>\n",
       "      <th>Referee</th>\n",
       "      <th>HS</th>\n",
       "      <th>AS</th>\n",
       "      <th>HST</th>\n",
       "      <th>AST</th>\n",
       "      <th>HF</th>\n",
       "      <th>AF</th>\n",
       "      <th>HC</th>\n",
       "      <th>AC</th>\n",
       "      <th>HY</th>\n",
       "      <th>AY</th>\n",
       "      <th>HR</th>\n",
       "      <th>AR</th>\n",
       "      <th>B365H</th>\n",
       "      <th>B365D</th>\n",
       "      <th>B365A</th>\n",
       "      <th>BWH</th>\n",
       "      <th>BWD</th>\n",
       "      <th>BWA</th>\n",
       "      <th>IWH</th>\n",
       "      <th>IWD</th>\n",
       "      <th>IWA</th>\n",
       "      <th>LBH</th>\n",
       "      <th>LBD</th>\n",
       "      <th>LBA</th>\n",
       "      <th>PSH</th>\n",
       "      <th>PSD</th>\n",
       "      <th>PSA</th>\n",
       "      <th>WHH</th>\n",
       "      <th>WHD</th>\n",
       "      <th>WHA</th>\n",
       "      <th>VCH</th>\n",
       "      <th>VCD</th>\n",
       "      <th>VCA</th>\n",
       "      <th>Bb1X2</th>\n",
       "      <th>BbMxH</th>\n",
       "      <th>BbAvH</th>\n",
       "      <th>BbMxD</th>\n",
       "      <th>BbAvD</th>\n",
       "      <th>BbMxA</th>\n",
       "      <th>BbAvA</th>\n",
       "      <th>BbOU</th>\n",
       "      <th>BbMx&gt;2.5</th>\n",
       "      <th>BbAv&gt;2.5</th>\n",
       "      <th>BbMx&lt;2.5</th>\n",
       "      <th>BbAv&lt;2.5</th>\n",
       "      <th>BbAH</th>\n",
       "      <th>BbAHh</th>\n",
       "      <th>BbMxAHH</th>\n",
       "      <th>BbAvAHH</th>\n",
       "      <th>BbMxAHA</th>\n",
       "      <th>BbAvAHA</th>\n",
       "      <th>PSCH</th>\n",
       "      <th>PSCD</th>\n",
       "      <th>PSCA</th>\n",
       "      <th>Time</th>\n",
       "      <th>MaxH</th>\n",
       "      <th>MaxD</th>\n",
       "      <th>MaxA</th>\n",
       "      <th>AvgH</th>\n",
       "      <th>AvgD</th>\n",
       "      <th>AvgA</th>\n",
       "      <th>B365&gt;2.5</th>\n",
       "      <th>B365&lt;2.5</th>\n",
       "      <th>P&gt;2.5</th>\n",
       "      <th>P&lt;2.5</th>\n",
       "      <th>Max&gt;2.5</th>\n",
       "      <th>Max&lt;2.5</th>\n",
       "      <th>Avg&gt;2.5</th>\n",
       "      <th>Avg&lt;2.5</th>\n",
       "      <th>AHh</th>\n",
       "      <th>B365AHH</th>\n",
       "      <th>B365AHA</th>\n",
       "      <th>PAHH</th>\n",
       "      <th>PAHA</th>\n",
       "      <th>MaxAHH</th>\n",
       "      <th>MaxAHA</th>\n",
       "      <th>AvgAHH</th>\n",
       "      <th>AvgAHA</th>\n",
       "      <th>B365CH</th>\n",
       "      <th>B365CD</th>\n",
       "      <th>B365CA</th>\n",
       "      <th>BWCH</th>\n",
       "      <th>BWCD</th>\n",
       "      <th>BWCA</th>\n",
       "      <th>IWCH</th>\n",
       "      <th>IWCD</th>\n",
       "      <th>IWCA</th>\n",
       "      <th>WHCH</th>\n",
       "      <th>WHCD</th>\n",
       "      <th>WHCA</th>\n",
       "      <th>VCCH</th>\n",
       "      <th>VCCD</th>\n",
       "      <th>VCCA</th>\n",
       "      <th>MaxCH</th>\n",
       "      <th>MaxCD</th>\n",
       "      <th>MaxCA</th>\n",
       "      <th>AvgCH</th>\n",
       "      <th>AvgCD</th>\n",
       "      <th>AvgCA</th>\n",
       "      <th>B365C&gt;2.5</th>\n",
       "      <th>B365C&lt;2.5</th>\n",
       "      <th>PC&gt;2.5</th>\n",
       "      <th>PC&lt;2.5</th>\n",
       "      <th>MaxC&gt;2.5</th>\n",
       "      <th>MaxC&lt;2.5</th>\n",
       "      <th>AvgC&gt;2.5</th>\n",
       "      <th>AvgC&lt;2.5</th>\n",
       "      <th>AHCh</th>\n",
       "      <th>B365CAHH</th>\n",
       "      <th>B365CAHA</th>\n",
       "      <th>PCAHH</th>\n",
       "      <th>PCAHA</th>\n",
       "      <th>MaxCAHH</th>\n",
       "      <th>MaxCAHA</th>\n",
       "      <th>AvgCAHH</th>\n",
       "      <th>AvgCAHA</th>\n",
       "    </tr>\n",
       "  </thead>\n",
       "  <tbody>\n",
       "    <tr>\n",
       "      <th>0</th>\n",
       "      <td>E0</td>\n",
       "      <td>11/08/2017</td>\n",
       "      <td>Arsenal</td>\n",
       "      <td>Leicester</td>\n",
       "      <td>4</td>\n",
       "      <td>3</td>\n",
       "      <td>H</td>\n",
       "      <td>2</td>\n",
       "      <td>2</td>\n",
       "      <td>D</td>\n",
       "      <td>M Dean</td>\n",
       "      <td>27</td>\n",
       "      <td>6</td>\n",
       "      <td>10</td>\n",
       "      <td>3</td>\n",
       "      <td>9</td>\n",
       "      <td>12</td>\n",
       "      <td>9</td>\n",
       "      <td>4</td>\n",
       "      <td>0</td>\n",
       "      <td>1</td>\n",
       "      <td>0</td>\n",
       "      <td>0</td>\n",
       "      <td>1.53</td>\n",
       "      <td>4.5</td>\n",
       "      <td>6.50</td>\n",
       "      <td>1.50</td>\n",
       "      <td>4.60</td>\n",
       "      <td>6.75</td>\n",
       "      <td>1.47</td>\n",
       "      <td>4.5</td>\n",
       "      <td>6.50</td>\n",
       "      <td>1.44</td>\n",
       "      <td>4.40</td>\n",
       "      <td>6.50</td>\n",
       "      <td>1.53</td>\n",
       "      <td>4.55</td>\n",
       "      <td>6.85</td>\n",
       "      <td>1.53</td>\n",
       "      <td>4.2</td>\n",
       "      <td>6.00</td>\n",
       "      <td>1.53</td>\n",
       "      <td>4.50</td>\n",
       "      <td>6.50</td>\n",
       "      <td>41.0</td>\n",
       "      <td>1.55</td>\n",
       "      <td>1.51</td>\n",
       "      <td>4.60</td>\n",
       "      <td>4.43</td>\n",
       "      <td>6.89</td>\n",
       "      <td>6.44</td>\n",
       "      <td>37.0</td>\n",
       "      <td>1.65</td>\n",
       "      <td>1.61</td>\n",
       "      <td>2.43</td>\n",
       "      <td>2.32</td>\n",
       "      <td>21.0</td>\n",
       "      <td>-1.00</td>\n",
       "      <td>1.91</td>\n",
       "      <td>1.85</td>\n",
       "      <td>2.10</td>\n",
       "      <td>2.02</td>\n",
       "      <td>1.49</td>\n",
       "      <td>4.73</td>\n",
       "      <td>7.25</td>\n",
       "      <td>NaN</td>\n",
       "      <td>NaN</td>\n",
       "      <td>NaN</td>\n",
       "      <td>NaN</td>\n",
       "      <td>NaN</td>\n",
       "      <td>NaN</td>\n",
       "      <td>NaN</td>\n",
       "      <td>NaN</td>\n",
       "      <td>NaN</td>\n",
       "      <td>NaN</td>\n",
       "      <td>NaN</td>\n",
       "      <td>NaN</td>\n",
       "      <td>NaN</td>\n",
       "      <td>NaN</td>\n",
       "      <td>NaN</td>\n",
       "      <td>NaN</td>\n",
       "      <td>NaN</td>\n",
       "      <td>NaN</td>\n",
       "      <td>NaN</td>\n",
       "      <td>NaN</td>\n",
       "      <td>NaN</td>\n",
       "      <td>NaN</td>\n",
       "      <td>NaN</td>\n",
       "      <td>NaN</td>\n",
       "      <td>NaN</td>\n",
       "      <td>NaN</td>\n",
       "      <td>NaN</td>\n",
       "      <td>NaN</td>\n",
       "      <td>NaN</td>\n",
       "      <td>NaN</td>\n",
       "      <td>NaN</td>\n",
       "      <td>NaN</td>\n",
       "      <td>NaN</td>\n",
       "      <td>NaN</td>\n",
       "      <td>NaN</td>\n",
       "      <td>NaN</td>\n",
       "      <td>NaN</td>\n",
       "      <td>NaN</td>\n",
       "      <td>NaN</td>\n",
       "      <td>NaN</td>\n",
       "      <td>NaN</td>\n",
       "      <td>NaN</td>\n",
       "      <td>NaN</td>\n",
       "      <td>NaN</td>\n",
       "      <td>NaN</td>\n",
       "      <td>NaN</td>\n",
       "      <td>NaN</td>\n",
       "      <td>NaN</td>\n",
       "      <td>NaN</td>\n",
       "      <td>NaN</td>\n",
       "      <td>NaN</td>\n",
       "      <td>NaN</td>\n",
       "      <td>NaN</td>\n",
       "      <td>NaN</td>\n",
       "      <td>NaN</td>\n",
       "      <td>NaN</td>\n",
       "      <td>NaN</td>\n",
       "      <td>NaN</td>\n",
       "      <td>NaN</td>\n",
       "      <td>NaN</td>\n",
       "      <td>NaN</td>\n",
       "      <td>NaN</td>\n",
       "    </tr>\n",
       "    <tr>\n",
       "      <th>1</th>\n",
       "      <td>E0</td>\n",
       "      <td>12/08/2017</td>\n",
       "      <td>Brighton</td>\n",
       "      <td>Man City</td>\n",
       "      <td>0</td>\n",
       "      <td>2</td>\n",
       "      <td>A</td>\n",
       "      <td>0</td>\n",
       "      <td>0</td>\n",
       "      <td>D</td>\n",
       "      <td>M Oliver</td>\n",
       "      <td>6</td>\n",
       "      <td>14</td>\n",
       "      <td>2</td>\n",
       "      <td>4</td>\n",
       "      <td>6</td>\n",
       "      <td>9</td>\n",
       "      <td>3</td>\n",
       "      <td>10</td>\n",
       "      <td>0</td>\n",
       "      <td>2</td>\n",
       "      <td>0</td>\n",
       "      <td>0</td>\n",
       "      <td>11.00</td>\n",
       "      <td>5.5</td>\n",
       "      <td>1.33</td>\n",
       "      <td>11.00</td>\n",
       "      <td>5.25</td>\n",
       "      <td>1.30</td>\n",
       "      <td>8.00</td>\n",
       "      <td>5.3</td>\n",
       "      <td>1.35</td>\n",
       "      <td>10.00</td>\n",
       "      <td>5.00</td>\n",
       "      <td>1.30</td>\n",
       "      <td>10.95</td>\n",
       "      <td>5.55</td>\n",
       "      <td>1.34</td>\n",
       "      <td>10.00</td>\n",
       "      <td>4.8</td>\n",
       "      <td>1.33</td>\n",
       "      <td>10.00</td>\n",
       "      <td>5.50</td>\n",
       "      <td>1.33</td>\n",
       "      <td>40.0</td>\n",
       "      <td>11.50</td>\n",
       "      <td>10.10</td>\n",
       "      <td>5.60</td>\n",
       "      <td>5.25</td>\n",
       "      <td>1.36</td>\n",
       "      <td>1.32</td>\n",
       "      <td>35.0</td>\n",
       "      <td>1.70</td>\n",
       "      <td>1.63</td>\n",
       "      <td>2.40</td>\n",
       "      <td>2.27</td>\n",
       "      <td>20.0</td>\n",
       "      <td>1.50</td>\n",
       "      <td>1.95</td>\n",
       "      <td>1.91</td>\n",
       "      <td>2.01</td>\n",
       "      <td>1.96</td>\n",
       "      <td>11.75</td>\n",
       "      <td>6.15</td>\n",
       "      <td>1.29</td>\n",
       "      <td>NaN</td>\n",
       "      <td>NaN</td>\n",
       "      <td>NaN</td>\n",
       "      <td>NaN</td>\n",
       "      <td>NaN</td>\n",
       "      <td>NaN</td>\n",
       "      <td>NaN</td>\n",
       "      <td>NaN</td>\n",
       "      <td>NaN</td>\n",
       "      <td>NaN</td>\n",
       "      <td>NaN</td>\n",
       "      <td>NaN</td>\n",
       "      <td>NaN</td>\n",
       "      <td>NaN</td>\n",
       "      <td>NaN</td>\n",
       "      <td>NaN</td>\n",
       "      <td>NaN</td>\n",
       "      <td>NaN</td>\n",
       "      <td>NaN</td>\n",
       "      <td>NaN</td>\n",
       "      <td>NaN</td>\n",
       "      <td>NaN</td>\n",
       "      <td>NaN</td>\n",
       "      <td>NaN</td>\n",
       "      <td>NaN</td>\n",
       "      <td>NaN</td>\n",
       "      <td>NaN</td>\n",
       "      <td>NaN</td>\n",
       "      <td>NaN</td>\n",
       "      <td>NaN</td>\n",
       "      <td>NaN</td>\n",
       "      <td>NaN</td>\n",
       "      <td>NaN</td>\n",
       "      <td>NaN</td>\n",
       "      <td>NaN</td>\n",
       "      <td>NaN</td>\n",
       "      <td>NaN</td>\n",
       "      <td>NaN</td>\n",
       "      <td>NaN</td>\n",
       "      <td>NaN</td>\n",
       "      <td>NaN</td>\n",
       "      <td>NaN</td>\n",
       "      <td>NaN</td>\n",
       "      <td>NaN</td>\n",
       "      <td>NaN</td>\n",
       "      <td>NaN</td>\n",
       "      <td>NaN</td>\n",
       "      <td>NaN</td>\n",
       "      <td>NaN</td>\n",
       "      <td>NaN</td>\n",
       "      <td>NaN</td>\n",
       "      <td>NaN</td>\n",
       "      <td>NaN</td>\n",
       "      <td>NaN</td>\n",
       "      <td>NaN</td>\n",
       "      <td>NaN</td>\n",
       "      <td>NaN</td>\n",
       "      <td>NaN</td>\n",
       "      <td>NaN</td>\n",
       "      <td>NaN</td>\n",
       "      <td>NaN</td>\n",
       "      <td>NaN</td>\n",
       "    </tr>\n",
       "    <tr>\n",
       "      <th>2</th>\n",
       "      <td>E0</td>\n",
       "      <td>12/08/2017</td>\n",
       "      <td>Chelsea</td>\n",
       "      <td>Burnley</td>\n",
       "      <td>2</td>\n",
       "      <td>3</td>\n",
       "      <td>A</td>\n",
       "      <td>0</td>\n",
       "      <td>3</td>\n",
       "      <td>A</td>\n",
       "      <td>C Pawson</td>\n",
       "      <td>19</td>\n",
       "      <td>10</td>\n",
       "      <td>6</td>\n",
       "      <td>5</td>\n",
       "      <td>16</td>\n",
       "      <td>11</td>\n",
       "      <td>8</td>\n",
       "      <td>5</td>\n",
       "      <td>3</td>\n",
       "      <td>3</td>\n",
       "      <td>2</td>\n",
       "      <td>0</td>\n",
       "      <td>1.25</td>\n",
       "      <td>6.5</td>\n",
       "      <td>15.00</td>\n",
       "      <td>1.22</td>\n",
       "      <td>6.50</td>\n",
       "      <td>12.50</td>\n",
       "      <td>1.22</td>\n",
       "      <td>6.2</td>\n",
       "      <td>13.50</td>\n",
       "      <td>1.25</td>\n",
       "      <td>5.75</td>\n",
       "      <td>15.00</td>\n",
       "      <td>1.26</td>\n",
       "      <td>6.30</td>\n",
       "      <td>15.25</td>\n",
       "      <td>1.25</td>\n",
       "      <td>5.5</td>\n",
       "      <td>13.00</td>\n",
       "      <td>1.25</td>\n",
       "      <td>6.25</td>\n",
       "      <td>15.00</td>\n",
       "      <td>41.0</td>\n",
       "      <td>1.27</td>\n",
       "      <td>1.24</td>\n",
       "      <td>6.55</td>\n",
       "      <td>6.06</td>\n",
       "      <td>15.50</td>\n",
       "      <td>13.67</td>\n",
       "      <td>36.0</td>\n",
       "      <td>1.71</td>\n",
       "      <td>1.66</td>\n",
       "      <td>2.33</td>\n",
       "      <td>2.23</td>\n",
       "      <td>20.0</td>\n",
       "      <td>-1.75</td>\n",
       "      <td>2.03</td>\n",
       "      <td>1.97</td>\n",
       "      <td>1.95</td>\n",
       "      <td>1.90</td>\n",
       "      <td>1.33</td>\n",
       "      <td>5.40</td>\n",
       "      <td>12.25</td>\n",
       "      <td>NaN</td>\n",
       "      <td>NaN</td>\n",
       "      <td>NaN</td>\n",
       "      <td>NaN</td>\n",
       "      <td>NaN</td>\n",
       "      <td>NaN</td>\n",
       "      <td>NaN</td>\n",
       "      <td>NaN</td>\n",
       "      <td>NaN</td>\n",
       "      <td>NaN</td>\n",
       "      <td>NaN</td>\n",
       "      <td>NaN</td>\n",
       "      <td>NaN</td>\n",
       "      <td>NaN</td>\n",
       "      <td>NaN</td>\n",
       "      <td>NaN</td>\n",
       "      <td>NaN</td>\n",
       "      <td>NaN</td>\n",
       "      <td>NaN</td>\n",
       "      <td>NaN</td>\n",
       "      <td>NaN</td>\n",
       "      <td>NaN</td>\n",
       "      <td>NaN</td>\n",
       "      <td>NaN</td>\n",
       "      <td>NaN</td>\n",
       "      <td>NaN</td>\n",
       "      <td>NaN</td>\n",
       "      <td>NaN</td>\n",
       "      <td>NaN</td>\n",
       "      <td>NaN</td>\n",
       "      <td>NaN</td>\n",
       "      <td>NaN</td>\n",
       "      <td>NaN</td>\n",
       "      <td>NaN</td>\n",
       "      <td>NaN</td>\n",
       "      <td>NaN</td>\n",
       "      <td>NaN</td>\n",
       "      <td>NaN</td>\n",
       "      <td>NaN</td>\n",
       "      <td>NaN</td>\n",
       "      <td>NaN</td>\n",
       "      <td>NaN</td>\n",
       "      <td>NaN</td>\n",
       "      <td>NaN</td>\n",
       "      <td>NaN</td>\n",
       "      <td>NaN</td>\n",
       "      <td>NaN</td>\n",
       "      <td>NaN</td>\n",
       "      <td>NaN</td>\n",
       "      <td>NaN</td>\n",
       "      <td>NaN</td>\n",
       "      <td>NaN</td>\n",
       "      <td>NaN</td>\n",
       "      <td>NaN</td>\n",
       "      <td>NaN</td>\n",
       "      <td>NaN</td>\n",
       "      <td>NaN</td>\n",
       "      <td>NaN</td>\n",
       "      <td>NaN</td>\n",
       "      <td>NaN</td>\n",
       "      <td>NaN</td>\n",
       "      <td>NaN</td>\n",
       "    </tr>\n",
       "    <tr>\n",
       "      <th>3</th>\n",
       "      <td>E0</td>\n",
       "      <td>12/08/2017</td>\n",
       "      <td>Crystal Palace</td>\n",
       "      <td>Huddersfield</td>\n",
       "      <td>0</td>\n",
       "      <td>3</td>\n",
       "      <td>A</td>\n",
       "      <td>0</td>\n",
       "      <td>2</td>\n",
       "      <td>A</td>\n",
       "      <td>J Moss</td>\n",
       "      <td>14</td>\n",
       "      <td>8</td>\n",
       "      <td>4</td>\n",
       "      <td>6</td>\n",
       "      <td>7</td>\n",
       "      <td>19</td>\n",
       "      <td>12</td>\n",
       "      <td>9</td>\n",
       "      <td>1</td>\n",
       "      <td>3</td>\n",
       "      <td>0</td>\n",
       "      <td>0</td>\n",
       "      <td>1.83</td>\n",
       "      <td>3.6</td>\n",
       "      <td>5.00</td>\n",
       "      <td>1.80</td>\n",
       "      <td>3.50</td>\n",
       "      <td>4.75</td>\n",
       "      <td>1.85</td>\n",
       "      <td>3.5</td>\n",
       "      <td>4.30</td>\n",
       "      <td>1.80</td>\n",
       "      <td>3.40</td>\n",
       "      <td>4.60</td>\n",
       "      <td>1.83</td>\n",
       "      <td>3.58</td>\n",
       "      <td>5.11</td>\n",
       "      <td>1.80</td>\n",
       "      <td>3.3</td>\n",
       "      <td>5.00</td>\n",
       "      <td>1.83</td>\n",
       "      <td>3.60</td>\n",
       "      <td>5.00</td>\n",
       "      <td>41.0</td>\n",
       "      <td>1.86</td>\n",
       "      <td>1.81</td>\n",
       "      <td>3.65</td>\n",
       "      <td>3.50</td>\n",
       "      <td>5.11</td>\n",
       "      <td>4.82</td>\n",
       "      <td>36.0</td>\n",
       "      <td>2.19</td>\n",
       "      <td>2.11</td>\n",
       "      <td>1.79</td>\n",
       "      <td>1.72</td>\n",
       "      <td>18.0</td>\n",
       "      <td>-0.75</td>\n",
       "      <td>2.10</td>\n",
       "      <td>2.05</td>\n",
       "      <td>1.86</td>\n",
       "      <td>1.83</td>\n",
       "      <td>1.79</td>\n",
       "      <td>3.56</td>\n",
       "      <td>5.51</td>\n",
       "      <td>NaN</td>\n",
       "      <td>NaN</td>\n",
       "      <td>NaN</td>\n",
       "      <td>NaN</td>\n",
       "      <td>NaN</td>\n",
       "      <td>NaN</td>\n",
       "      <td>NaN</td>\n",
       "      <td>NaN</td>\n",
       "      <td>NaN</td>\n",
       "      <td>NaN</td>\n",
       "      <td>NaN</td>\n",
       "      <td>NaN</td>\n",
       "      <td>NaN</td>\n",
       "      <td>NaN</td>\n",
       "      <td>NaN</td>\n",
       "      <td>NaN</td>\n",
       "      <td>NaN</td>\n",
       "      <td>NaN</td>\n",
       "      <td>NaN</td>\n",
       "      <td>NaN</td>\n",
       "      <td>NaN</td>\n",
       "      <td>NaN</td>\n",
       "      <td>NaN</td>\n",
       "      <td>NaN</td>\n",
       "      <td>NaN</td>\n",
       "      <td>NaN</td>\n",
       "      <td>NaN</td>\n",
       "      <td>NaN</td>\n",
       "      <td>NaN</td>\n",
       "      <td>NaN</td>\n",
       "      <td>NaN</td>\n",
       "      <td>NaN</td>\n",
       "      <td>NaN</td>\n",
       "      <td>NaN</td>\n",
       "      <td>NaN</td>\n",
       "      <td>NaN</td>\n",
       "      <td>NaN</td>\n",
       "      <td>NaN</td>\n",
       "      <td>NaN</td>\n",
       "      <td>NaN</td>\n",
       "      <td>NaN</td>\n",
       "      <td>NaN</td>\n",
       "      <td>NaN</td>\n",
       "      <td>NaN</td>\n",
       "      <td>NaN</td>\n",
       "      <td>NaN</td>\n",
       "      <td>NaN</td>\n",
       "      <td>NaN</td>\n",
       "      <td>NaN</td>\n",
       "      <td>NaN</td>\n",
       "      <td>NaN</td>\n",
       "      <td>NaN</td>\n",
       "      <td>NaN</td>\n",
       "      <td>NaN</td>\n",
       "      <td>NaN</td>\n",
       "      <td>NaN</td>\n",
       "      <td>NaN</td>\n",
       "      <td>NaN</td>\n",
       "      <td>NaN</td>\n",
       "      <td>NaN</td>\n",
       "      <td>NaN</td>\n",
       "      <td>NaN</td>\n",
       "    </tr>\n",
       "    <tr>\n",
       "      <th>4</th>\n",
       "      <td>E0</td>\n",
       "      <td>12/08/2017</td>\n",
       "      <td>Everton</td>\n",
       "      <td>Stoke</td>\n",
       "      <td>1</td>\n",
       "      <td>0</td>\n",
       "      <td>H</td>\n",
       "      <td>1</td>\n",
       "      <td>0</td>\n",
       "      <td>H</td>\n",
       "      <td>N Swarbrick</td>\n",
       "      <td>9</td>\n",
       "      <td>9</td>\n",
       "      <td>4</td>\n",
       "      <td>1</td>\n",
       "      <td>13</td>\n",
       "      <td>10</td>\n",
       "      <td>6</td>\n",
       "      <td>7</td>\n",
       "      <td>1</td>\n",
       "      <td>1</td>\n",
       "      <td>0</td>\n",
       "      <td>0</td>\n",
       "      <td>1.70</td>\n",
       "      <td>3.8</td>\n",
       "      <td>5.75</td>\n",
       "      <td>1.70</td>\n",
       "      <td>3.60</td>\n",
       "      <td>5.50</td>\n",
       "      <td>1.70</td>\n",
       "      <td>3.7</td>\n",
       "      <td>5.00</td>\n",
       "      <td>1.67</td>\n",
       "      <td>3.60</td>\n",
       "      <td>5.25</td>\n",
       "      <td>1.70</td>\n",
       "      <td>3.83</td>\n",
       "      <td>5.81</td>\n",
       "      <td>1.70</td>\n",
       "      <td>3.5</td>\n",
       "      <td>5.50</td>\n",
       "      <td>1.70</td>\n",
       "      <td>3.80</td>\n",
       "      <td>5.75</td>\n",
       "      <td>40.0</td>\n",
       "      <td>1.71</td>\n",
       "      <td>1.69</td>\n",
       "      <td>3.85</td>\n",
       "      <td>3.69</td>\n",
       "      <td>6.00</td>\n",
       "      <td>5.50</td>\n",
       "      <td>35.0</td>\n",
       "      <td>2.17</td>\n",
       "      <td>2.08</td>\n",
       "      <td>1.80</td>\n",
       "      <td>1.76</td>\n",
       "      <td>19.0</td>\n",
       "      <td>-0.75</td>\n",
       "      <td>1.94</td>\n",
       "      <td>1.90</td>\n",
       "      <td>2.01</td>\n",
       "      <td>1.98</td>\n",
       "      <td>1.82</td>\n",
       "      <td>3.49</td>\n",
       "      <td>5.42</td>\n",
       "      <td>NaN</td>\n",
       "      <td>NaN</td>\n",
       "      <td>NaN</td>\n",
       "      <td>NaN</td>\n",
       "      <td>NaN</td>\n",
       "      <td>NaN</td>\n",
       "      <td>NaN</td>\n",
       "      <td>NaN</td>\n",
       "      <td>NaN</td>\n",
       "      <td>NaN</td>\n",
       "      <td>NaN</td>\n",
       "      <td>NaN</td>\n",
       "      <td>NaN</td>\n",
       "      <td>NaN</td>\n",
       "      <td>NaN</td>\n",
       "      <td>NaN</td>\n",
       "      <td>NaN</td>\n",
       "      <td>NaN</td>\n",
       "      <td>NaN</td>\n",
       "      <td>NaN</td>\n",
       "      <td>NaN</td>\n",
       "      <td>NaN</td>\n",
       "      <td>NaN</td>\n",
       "      <td>NaN</td>\n",
       "      <td>NaN</td>\n",
       "      <td>NaN</td>\n",
       "      <td>NaN</td>\n",
       "      <td>NaN</td>\n",
       "      <td>NaN</td>\n",
       "      <td>NaN</td>\n",
       "      <td>NaN</td>\n",
       "      <td>NaN</td>\n",
       "      <td>NaN</td>\n",
       "      <td>NaN</td>\n",
       "      <td>NaN</td>\n",
       "      <td>NaN</td>\n",
       "      <td>NaN</td>\n",
       "      <td>NaN</td>\n",
       "      <td>NaN</td>\n",
       "      <td>NaN</td>\n",
       "      <td>NaN</td>\n",
       "      <td>NaN</td>\n",
       "      <td>NaN</td>\n",
       "      <td>NaN</td>\n",
       "      <td>NaN</td>\n",
       "      <td>NaN</td>\n",
       "      <td>NaN</td>\n",
       "      <td>NaN</td>\n",
       "      <td>NaN</td>\n",
       "      <td>NaN</td>\n",
       "      <td>NaN</td>\n",
       "      <td>NaN</td>\n",
       "      <td>NaN</td>\n",
       "      <td>NaN</td>\n",
       "      <td>NaN</td>\n",
       "      <td>NaN</td>\n",
       "      <td>NaN</td>\n",
       "      <td>NaN</td>\n",
       "      <td>NaN</td>\n",
       "      <td>NaN</td>\n",
       "      <td>NaN</td>\n",
       "      <td>NaN</td>\n",
       "    </tr>\n",
       "  </tbody>\n",
       "</table>\n",
       "</div>"
      ],
      "text/plain": [
       "  Div        Date        HomeTeam      AwayTeam  FTHG  FTAG FTR  HTHG  HTAG  \\\n",
       "0  E0  11/08/2017         Arsenal     Leicester     4     3   H     2     2   \n",
       "1  E0  12/08/2017        Brighton      Man City     0     2   A     0     0   \n",
       "2  E0  12/08/2017         Chelsea       Burnley     2     3   A     0     3   \n",
       "3  E0  12/08/2017  Crystal Palace  Huddersfield     0     3   A     0     2   \n",
       "4  E0  12/08/2017         Everton         Stoke     1     0   H     1     0   \n",
       "\n",
       "  HTR      Referee  HS  AS  HST  AST  HF  AF  HC  AC  HY  AY  HR  AR  B365H  \\\n",
       "0   D       M Dean  27   6   10    3   9  12   9   4   0   1   0   0   1.53   \n",
       "1   D     M Oliver   6  14    2    4   6   9   3  10   0   2   0   0  11.00   \n",
       "2   A     C Pawson  19  10    6    5  16  11   8   5   3   3   2   0   1.25   \n",
       "3   A       J Moss  14   8    4    6   7  19  12   9   1   3   0   0   1.83   \n",
       "4   H  N Swarbrick   9   9    4    1  13  10   6   7   1   1   0   0   1.70   \n",
       "\n",
       "   B365D  B365A    BWH   BWD    BWA   IWH  IWD    IWA    LBH   LBD    LBA  \\\n",
       "0    4.5   6.50   1.50  4.60   6.75  1.47  4.5   6.50   1.44  4.40   6.50   \n",
       "1    5.5   1.33  11.00  5.25   1.30  8.00  5.3   1.35  10.00  5.00   1.30   \n",
       "2    6.5  15.00   1.22  6.50  12.50  1.22  6.2  13.50   1.25  5.75  15.00   \n",
       "3    3.6   5.00   1.80  3.50   4.75  1.85  3.5   4.30   1.80  3.40   4.60   \n",
       "4    3.8   5.75   1.70  3.60   5.50  1.70  3.7   5.00   1.67  3.60   5.25   \n",
       "\n",
       "     PSH   PSD    PSA    WHH  WHD    WHA    VCH   VCD    VCA  Bb1X2  BbMxH  \\\n",
       "0   1.53  4.55   6.85   1.53  4.2   6.00   1.53  4.50   6.50   41.0   1.55   \n",
       "1  10.95  5.55   1.34  10.00  4.8   1.33  10.00  5.50   1.33   40.0  11.50   \n",
       "2   1.26  6.30  15.25   1.25  5.5  13.00   1.25  6.25  15.00   41.0   1.27   \n",
       "3   1.83  3.58   5.11   1.80  3.3   5.00   1.83  3.60   5.00   41.0   1.86   \n",
       "4   1.70  3.83   5.81   1.70  3.5   5.50   1.70  3.80   5.75   40.0   1.71   \n",
       "\n",
       "   BbAvH  BbMxD  BbAvD  BbMxA  BbAvA  BbOU  BbMx>2.5  BbAv>2.5  BbMx<2.5  \\\n",
       "0   1.51   4.60   4.43   6.89   6.44  37.0      1.65      1.61      2.43   \n",
       "1  10.10   5.60   5.25   1.36   1.32  35.0      1.70      1.63      2.40   \n",
       "2   1.24   6.55   6.06  15.50  13.67  36.0      1.71      1.66      2.33   \n",
       "3   1.81   3.65   3.50   5.11   4.82  36.0      2.19      2.11      1.79   \n",
       "4   1.69   3.85   3.69   6.00   5.50  35.0      2.17      2.08      1.80   \n",
       "\n",
       "   BbAv<2.5  BbAH  BbAHh  BbMxAHH  BbAvAHH  BbMxAHA  BbAvAHA   PSCH  PSCD  \\\n",
       "0      2.32  21.0  -1.00     1.91     1.85     2.10     2.02   1.49  4.73   \n",
       "1      2.27  20.0   1.50     1.95     1.91     2.01     1.96  11.75  6.15   \n",
       "2      2.23  20.0  -1.75     2.03     1.97     1.95     1.90   1.33  5.40   \n",
       "3      1.72  18.0  -0.75     2.10     2.05     1.86     1.83   1.79  3.56   \n",
       "4      1.76  19.0  -0.75     1.94     1.90     2.01     1.98   1.82  3.49   \n",
       "\n",
       "    PSCA Time  MaxH  MaxD  MaxA  AvgH  AvgD  AvgA  B365>2.5  B365<2.5  P>2.5  \\\n",
       "0   7.25  NaN   NaN   NaN   NaN   NaN   NaN   NaN       NaN       NaN    NaN   \n",
       "1   1.29  NaN   NaN   NaN   NaN   NaN   NaN   NaN       NaN       NaN    NaN   \n",
       "2  12.25  NaN   NaN   NaN   NaN   NaN   NaN   NaN       NaN       NaN    NaN   \n",
       "3   5.51  NaN   NaN   NaN   NaN   NaN   NaN   NaN       NaN       NaN    NaN   \n",
       "4   5.42  NaN   NaN   NaN   NaN   NaN   NaN   NaN       NaN       NaN    NaN   \n",
       "\n",
       "   P<2.5  Max>2.5  Max<2.5  Avg>2.5  Avg<2.5  AHh  B365AHH  B365AHA  PAHH  \\\n",
       "0    NaN      NaN      NaN      NaN      NaN  NaN      NaN      NaN   NaN   \n",
       "1    NaN      NaN      NaN      NaN      NaN  NaN      NaN      NaN   NaN   \n",
       "2    NaN      NaN      NaN      NaN      NaN  NaN      NaN      NaN   NaN   \n",
       "3    NaN      NaN      NaN      NaN      NaN  NaN      NaN      NaN   NaN   \n",
       "4    NaN      NaN      NaN      NaN      NaN  NaN      NaN      NaN   NaN   \n",
       "\n",
       "   PAHA  MaxAHH  MaxAHA  AvgAHH  AvgAHA  B365CH  B365CD  B365CA  BWCH  BWCD  \\\n",
       "0   NaN     NaN     NaN     NaN     NaN     NaN     NaN     NaN   NaN   NaN   \n",
       "1   NaN     NaN     NaN     NaN     NaN     NaN     NaN     NaN   NaN   NaN   \n",
       "2   NaN     NaN     NaN     NaN     NaN     NaN     NaN     NaN   NaN   NaN   \n",
       "3   NaN     NaN     NaN     NaN     NaN     NaN     NaN     NaN   NaN   NaN   \n",
       "4   NaN     NaN     NaN     NaN     NaN     NaN     NaN     NaN   NaN   NaN   \n",
       "\n",
       "   BWCA  IWCH  IWCD  IWCA  WHCH  WHCD  WHCA  VCCH  VCCD  VCCA  MaxCH  MaxCD  \\\n",
       "0   NaN   NaN   NaN   NaN   NaN   NaN   NaN   NaN   NaN   NaN    NaN    NaN   \n",
       "1   NaN   NaN   NaN   NaN   NaN   NaN   NaN   NaN   NaN   NaN    NaN    NaN   \n",
       "2   NaN   NaN   NaN   NaN   NaN   NaN   NaN   NaN   NaN   NaN    NaN    NaN   \n",
       "3   NaN   NaN   NaN   NaN   NaN   NaN   NaN   NaN   NaN   NaN    NaN    NaN   \n",
       "4   NaN   NaN   NaN   NaN   NaN   NaN   NaN   NaN   NaN   NaN    NaN    NaN   \n",
       "\n",
       "   MaxCA  AvgCH  AvgCD  AvgCA  B365C>2.5  B365C<2.5  PC>2.5  PC<2.5  MaxC>2.5  \\\n",
       "0    NaN    NaN    NaN    NaN        NaN        NaN     NaN     NaN       NaN   \n",
       "1    NaN    NaN    NaN    NaN        NaN        NaN     NaN     NaN       NaN   \n",
       "2    NaN    NaN    NaN    NaN        NaN        NaN     NaN     NaN       NaN   \n",
       "3    NaN    NaN    NaN    NaN        NaN        NaN     NaN     NaN       NaN   \n",
       "4    NaN    NaN    NaN    NaN        NaN        NaN     NaN     NaN       NaN   \n",
       "\n",
       "   MaxC<2.5  AvgC>2.5  AvgC<2.5  AHCh  B365CAHH  B365CAHA  PCAHH  PCAHA  \\\n",
       "0       NaN       NaN       NaN   NaN       NaN       NaN    NaN    NaN   \n",
       "1       NaN       NaN       NaN   NaN       NaN       NaN    NaN    NaN   \n",
       "2       NaN       NaN       NaN   NaN       NaN       NaN    NaN    NaN   \n",
       "3       NaN       NaN       NaN   NaN       NaN       NaN    NaN    NaN   \n",
       "4       NaN       NaN       NaN   NaN       NaN       NaN    NaN    NaN   \n",
       "\n",
       "   MaxCAHH  MaxCAHA  AvgCAHH  AvgCAHA  \n",
       "0      NaN      NaN      NaN      NaN  \n",
       "1      NaN      NaN      NaN      NaN  \n",
       "2      NaN      NaN      NaN      NaN  \n",
       "3      NaN      NaN      NaN      NaN  \n",
       "4      NaN      NaN      NaN      NaN  "
      ]
     },
     "execution_count": 81,
     "metadata": {},
     "output_type": "execute_result"
    }
   ],
   "source": [
    "pl_data.head()"
   ]
  },
  {
   "cell_type": "code",
   "execution_count": 82,
   "id": "a2b43d28",
   "metadata": {
    "ExecuteTime": {
     "end_time": "2021-04-06T10:15:35.437737Z",
     "start_time": "2021-04-06T10:15:35.433738Z"
    }
   },
   "outputs": [],
   "source": [
    "# key things for now are home, away, date, b365 home,draw,away\n",
    "# so will filter for managebility but can always come back"
   ]
  },
  {
   "cell_type": "code",
   "execution_count": 83,
   "id": "8ffd95d1",
   "metadata": {
    "ExecuteTime": {
     "end_time": "2021-04-06T10:15:35.609833Z",
     "start_time": "2021-04-06T10:15:35.599834Z"
    }
   },
   "outputs": [],
   "source": [
    "list_of_cols = ['Date','HomeTeam','AwayTeam','FTR','FTHG','FTAG','B365H','B365D','B365A']"
   ]
  },
  {
   "cell_type": "code",
   "execution_count": 84,
   "id": "e894b84e",
   "metadata": {
    "ExecuteTime": {
     "end_time": "2021-04-06T10:15:35.781235Z",
     "start_time": "2021-04-06T10:15:35.769234Z"
    }
   },
   "outputs": [],
   "source": [
    "pl_data_filt = pl_data[list_of_cols]"
   ]
  },
  {
   "cell_type": "code",
   "execution_count": 85,
   "id": "ba3db6e9",
   "metadata": {
    "ExecuteTime": {
     "end_time": "2021-04-06T10:15:35.921236Z",
     "start_time": "2021-04-06T10:15:35.904237Z"
    }
   },
   "outputs": [
    {
     "data": {
      "text/html": [
       "<div>\n",
       "<style scoped>\n",
       "    .dataframe tbody tr th:only-of-type {\n",
       "        vertical-align: middle;\n",
       "    }\n",
       "\n",
       "    .dataframe tbody tr th {\n",
       "        vertical-align: top;\n",
       "    }\n",
       "\n",
       "    .dataframe thead th {\n",
       "        text-align: right;\n",
       "    }\n",
       "</style>\n",
       "<table border=\"1\" class=\"dataframe\">\n",
       "  <thead>\n",
       "    <tr style=\"text-align: right;\">\n",
       "      <th></th>\n",
       "      <th>Date</th>\n",
       "      <th>HomeTeam</th>\n",
       "      <th>AwayTeam</th>\n",
       "      <th>FTR</th>\n",
       "      <th>FTHG</th>\n",
       "      <th>FTAG</th>\n",
       "      <th>B365H</th>\n",
       "      <th>B365D</th>\n",
       "      <th>B365A</th>\n",
       "    </tr>\n",
       "  </thead>\n",
       "  <tbody>\n",
       "    <tr>\n",
       "      <th>0</th>\n",
       "      <td>11/08/2017</td>\n",
       "      <td>Arsenal</td>\n",
       "      <td>Leicester</td>\n",
       "      <td>H</td>\n",
       "      <td>4</td>\n",
       "      <td>3</td>\n",
       "      <td>1.53</td>\n",
       "      <td>4.5</td>\n",
       "      <td>6.50</td>\n",
       "    </tr>\n",
       "    <tr>\n",
       "      <th>1</th>\n",
       "      <td>12/08/2017</td>\n",
       "      <td>Brighton</td>\n",
       "      <td>Man City</td>\n",
       "      <td>A</td>\n",
       "      <td>0</td>\n",
       "      <td>2</td>\n",
       "      <td>11.00</td>\n",
       "      <td>5.5</td>\n",
       "      <td>1.33</td>\n",
       "    </tr>\n",
       "    <tr>\n",
       "      <th>2</th>\n",
       "      <td>12/08/2017</td>\n",
       "      <td>Chelsea</td>\n",
       "      <td>Burnley</td>\n",
       "      <td>A</td>\n",
       "      <td>2</td>\n",
       "      <td>3</td>\n",
       "      <td>1.25</td>\n",
       "      <td>6.5</td>\n",
       "      <td>15.00</td>\n",
       "    </tr>\n",
       "    <tr>\n",
       "      <th>3</th>\n",
       "      <td>12/08/2017</td>\n",
       "      <td>Crystal Palace</td>\n",
       "      <td>Huddersfield</td>\n",
       "      <td>A</td>\n",
       "      <td>0</td>\n",
       "      <td>3</td>\n",
       "      <td>1.83</td>\n",
       "      <td>3.6</td>\n",
       "      <td>5.00</td>\n",
       "    </tr>\n",
       "    <tr>\n",
       "      <th>4</th>\n",
       "      <td>12/08/2017</td>\n",
       "      <td>Everton</td>\n",
       "      <td>Stoke</td>\n",
       "      <td>H</td>\n",
       "      <td>1</td>\n",
       "      <td>0</td>\n",
       "      <td>1.70</td>\n",
       "      <td>3.8</td>\n",
       "      <td>5.75</td>\n",
       "    </tr>\n",
       "  </tbody>\n",
       "</table>\n",
       "</div>"
      ],
      "text/plain": [
       "         Date        HomeTeam      AwayTeam FTR  FTHG  FTAG  B365H  B365D  \\\n",
       "0  11/08/2017         Arsenal     Leicester   H     4     3   1.53    4.5   \n",
       "1  12/08/2017        Brighton      Man City   A     0     2  11.00    5.5   \n",
       "2  12/08/2017         Chelsea       Burnley   A     2     3   1.25    6.5   \n",
       "3  12/08/2017  Crystal Palace  Huddersfield   A     0     3   1.83    3.6   \n",
       "4  12/08/2017         Everton         Stoke   H     1     0   1.70    3.8   \n",
       "\n",
       "   B365A  \n",
       "0   6.50  \n",
       "1   1.33  \n",
       "2  15.00  \n",
       "3   5.00  \n",
       "4   5.75  "
      ]
     },
     "execution_count": 85,
     "metadata": {},
     "output_type": "execute_result"
    }
   ],
   "source": [
    "pl_data_filt.head()"
   ]
  },
  {
   "cell_type": "markdown",
   "id": "1d637d5d",
   "metadata": {},
   "source": [
    "## Explore Gambling Data"
   ]
  },
  {
   "cell_type": "code",
   "execution_count": 86,
   "id": "0ece21bf",
   "metadata": {
    "ExecuteTime": {
     "end_time": "2021-04-06T10:15:36.235125Z",
     "start_time": "2021-04-06T10:15:36.209124Z"
    }
   },
   "outputs": [
    {
     "data": {
      "text/html": [
       "<div>\n",
       "<style scoped>\n",
       "    .dataframe tbody tr th:only-of-type {\n",
       "        vertical-align: middle;\n",
       "    }\n",
       "\n",
       "    .dataframe tbody tr th {\n",
       "        vertical-align: top;\n",
       "    }\n",
       "\n",
       "    .dataframe thead th {\n",
       "        text-align: right;\n",
       "    }\n",
       "</style>\n",
       "<table border=\"1\" class=\"dataframe\">\n",
       "  <thead>\n",
       "    <tr style=\"text-align: right;\">\n",
       "      <th></th>\n",
       "      <th>Date</th>\n",
       "      <th>HomeTeam</th>\n",
       "      <th>AwayTeam</th>\n",
       "      <th>FTR</th>\n",
       "      <th>FTHG</th>\n",
       "      <th>FTAG</th>\n",
       "      <th>B365H</th>\n",
       "      <th>B365D</th>\n",
       "      <th>B365A</th>\n",
       "    </tr>\n",
       "  </thead>\n",
       "  <tbody>\n",
       "    <tr>\n",
       "      <th>0</th>\n",
       "      <td>11/08/2017</td>\n",
       "      <td>Arsenal</td>\n",
       "      <td>Leicester</td>\n",
       "      <td>H</td>\n",
       "      <td>4</td>\n",
       "      <td>3</td>\n",
       "      <td>1.53</td>\n",
       "      <td>4.5</td>\n",
       "      <td>6.50</td>\n",
       "    </tr>\n",
       "    <tr>\n",
       "      <th>1</th>\n",
       "      <td>12/08/2017</td>\n",
       "      <td>Brighton</td>\n",
       "      <td>Man City</td>\n",
       "      <td>A</td>\n",
       "      <td>0</td>\n",
       "      <td>2</td>\n",
       "      <td>11.00</td>\n",
       "      <td>5.5</td>\n",
       "      <td>1.33</td>\n",
       "    </tr>\n",
       "    <tr>\n",
       "      <th>2</th>\n",
       "      <td>12/08/2017</td>\n",
       "      <td>Chelsea</td>\n",
       "      <td>Burnley</td>\n",
       "      <td>A</td>\n",
       "      <td>2</td>\n",
       "      <td>3</td>\n",
       "      <td>1.25</td>\n",
       "      <td>6.5</td>\n",
       "      <td>15.00</td>\n",
       "    </tr>\n",
       "    <tr>\n",
       "      <th>3</th>\n",
       "      <td>12/08/2017</td>\n",
       "      <td>Crystal Palace</td>\n",
       "      <td>Huddersfield</td>\n",
       "      <td>A</td>\n",
       "      <td>0</td>\n",
       "      <td>3</td>\n",
       "      <td>1.83</td>\n",
       "      <td>3.6</td>\n",
       "      <td>5.00</td>\n",
       "    </tr>\n",
       "    <tr>\n",
       "      <th>4</th>\n",
       "      <td>12/08/2017</td>\n",
       "      <td>Everton</td>\n",
       "      <td>Stoke</td>\n",
       "      <td>H</td>\n",
       "      <td>1</td>\n",
       "      <td>0</td>\n",
       "      <td>1.70</td>\n",
       "      <td>3.8</td>\n",
       "      <td>5.75</td>\n",
       "    </tr>\n",
       "  </tbody>\n",
       "</table>\n",
       "</div>"
      ],
      "text/plain": [
       "         Date        HomeTeam      AwayTeam FTR  FTHG  FTAG  B365H  B365D  \\\n",
       "0  11/08/2017         Arsenal     Leicester   H     4     3   1.53    4.5   \n",
       "1  12/08/2017        Brighton      Man City   A     0     2  11.00    5.5   \n",
       "2  12/08/2017         Chelsea       Burnley   A     2     3   1.25    6.5   \n",
       "3  12/08/2017  Crystal Palace  Huddersfield   A     0     3   1.83    3.6   \n",
       "4  12/08/2017         Everton         Stoke   H     1     0   1.70    3.8   \n",
       "\n",
       "   B365A  \n",
       "0   6.50  \n",
       "1   1.33  \n",
       "2  15.00  \n",
       "3   5.00  \n",
       "4   5.75  "
      ]
     },
     "execution_count": 86,
     "metadata": {},
     "output_type": "execute_result"
    }
   ],
   "source": [
    "pl_data_filt.head()\n"
   ]
  },
  {
   "cell_type": "code",
   "execution_count": 87,
   "id": "4c572e28",
   "metadata": {
    "ExecuteTime": {
     "end_time": "2021-04-06T10:15:36.392237Z",
     "start_time": "2021-04-06T10:15:36.361237Z"
    }
   },
   "outputs": [
    {
     "data": {
      "text/html": [
       "<div>\n",
       "<style scoped>\n",
       "    .dataframe tbody tr th:only-of-type {\n",
       "        vertical-align: middle;\n",
       "    }\n",
       "\n",
       "    .dataframe tbody tr th {\n",
       "        vertical-align: top;\n",
       "    }\n",
       "\n",
       "    .dataframe thead th {\n",
       "        text-align: right;\n",
       "    }\n",
       "</style>\n",
       "<table border=\"1\" class=\"dataframe\">\n",
       "  <thead>\n",
       "    <tr style=\"text-align: right;\">\n",
       "      <th></th>\n",
       "      <th>FTHG</th>\n",
       "      <th>FTAG</th>\n",
       "      <th>B365H</th>\n",
       "      <th>B365D</th>\n",
       "      <th>B365A</th>\n",
       "    </tr>\n",
       "  </thead>\n",
       "  <tbody>\n",
       "    <tr>\n",
       "      <th>count</th>\n",
       "      <td>1140.000000</td>\n",
       "      <td>1140.000000</td>\n",
       "      <td>1140.000000</td>\n",
       "      <td>1140.000000</td>\n",
       "      <td>1140.000000</td>\n",
       "    </tr>\n",
       "    <tr>\n",
       "      <th>mean</th>\n",
       "      <td>1.538596</td>\n",
       "      <td>1.201754</td>\n",
       "      <td>3.131088</td>\n",
       "      <td>4.437921</td>\n",
       "      <td>5.298360</td>\n",
       "    </tr>\n",
       "    <tr>\n",
       "      <th>std</th>\n",
       "      <td>1.300132</td>\n",
       "      <td>1.185809</td>\n",
       "      <td>2.739638</td>\n",
       "      <td>1.727374</td>\n",
       "      <td>5.225728</td>\n",
       "    </tr>\n",
       "    <tr>\n",
       "      <th>min</th>\n",
       "      <td>0.000000</td>\n",
       "      <td>0.000000</td>\n",
       "      <td>1.060000</td>\n",
       "      <td>3.000000</td>\n",
       "      <td>1.120000</td>\n",
       "    </tr>\n",
       "    <tr>\n",
       "      <th>25%</th>\n",
       "      <td>1.000000</td>\n",
       "      <td>0.000000</td>\n",
       "      <td>1.610000</td>\n",
       "      <td>3.400000</td>\n",
       "      <td>2.280000</td>\n",
       "    </tr>\n",
       "    <tr>\n",
       "      <th>50%</th>\n",
       "      <td>1.000000</td>\n",
       "      <td>1.000000</td>\n",
       "      <td>2.270000</td>\n",
       "      <td>3.750000</td>\n",
       "      <td>3.400000</td>\n",
       "    </tr>\n",
       "    <tr>\n",
       "      <th>75%</th>\n",
       "      <td>2.000000</td>\n",
       "      <td>2.000000</td>\n",
       "      <td>3.250000</td>\n",
       "      <td>4.750000</td>\n",
       "      <td>6.000000</td>\n",
       "    </tr>\n",
       "    <tr>\n",
       "      <th>max</th>\n",
       "      <td>8.000000</td>\n",
       "      <td>9.000000</td>\n",
       "      <td>23.000000</td>\n",
       "      <td>17.000000</td>\n",
       "      <td>41.000000</td>\n",
       "    </tr>\n",
       "  </tbody>\n",
       "</table>\n",
       "</div>"
      ],
      "text/plain": [
       "              FTHG         FTAG        B365H        B365D        B365A\n",
       "count  1140.000000  1140.000000  1140.000000  1140.000000  1140.000000\n",
       "mean      1.538596     1.201754     3.131088     4.437921     5.298360\n",
       "std       1.300132     1.185809     2.739638     1.727374     5.225728\n",
       "min       0.000000     0.000000     1.060000     3.000000     1.120000\n",
       "25%       1.000000     0.000000     1.610000     3.400000     2.280000\n",
       "50%       1.000000     1.000000     2.270000     3.750000     3.400000\n",
       "75%       2.000000     2.000000     3.250000     4.750000     6.000000\n",
       "max       8.000000     9.000000    23.000000    17.000000    41.000000"
      ]
     },
     "execution_count": 87,
     "metadata": {},
     "output_type": "execute_result"
    }
   ],
   "source": [
    "pl_data_filt.describe()"
   ]
  },
  {
   "cell_type": "code",
   "execution_count": 104,
   "id": "f2fb950f",
   "metadata": {
    "ExecuteTime": {
     "end_time": "2021-04-06T10:16:02.737845Z",
     "start_time": "2021-04-06T10:16:02.721846Z"
    }
   },
   "outputs": [
    {
     "data": {
      "text/plain": [
       "0      11/08/2017\n",
       "1      12/08/2017\n",
       "2      12/08/2017\n",
       "3      12/08/2017\n",
       "4      12/08/2017\n",
       "          ...    \n",
       "375    26/07/2020\n",
       "376    26/07/2020\n",
       "377    26/07/2020\n",
       "378    26/07/2020\n",
       "379    26/07/2020\n",
       "Name: Date, Length: 1140, dtype: object"
      ]
     },
     "execution_count": 104,
     "metadata": {},
     "output_type": "execute_result"
    }
   ],
   "source": [
    "pl_data_filt.Date"
   ]
  },
  {
   "cell_type": "code",
   "execution_count": 88,
   "id": "f3548b5f",
   "metadata": {
    "ExecuteTime": {
     "end_time": "2021-04-06T10:15:36.535113Z",
     "start_time": "2021-04-06T10:15:36.528113Z"
    }
   },
   "outputs": [],
   "source": [
    "# very first thing I want to look at is odds versus results\n",
    "# lets bucket up odds, then work out percentage correct per bucket"
   ]
  },
  {
   "cell_type": "code",
   "execution_count": 89,
   "id": "df5ffb29",
   "metadata": {
    "ExecuteTime": {
     "end_time": "2021-04-06T10:15:36.708126Z",
     "start_time": "2021-04-06T10:15:36.687130Z"
    }
   },
   "outputs": [
    {
     "name": "stderr",
     "output_type": "stream",
     "text": [
      "C:\\Users\\georg\\OneDrive\\Documents\\odds_checker\\lib\\site-packages\\ipykernel_launcher.py:1: SettingWithCopyWarning: \n",
      "A value is trying to be set on a copy of a slice from a DataFrame.\n",
      "Try using .loc[row_indexer,col_indexer] = value instead\n",
      "\n",
      "See the caveats in the documentation: https://pandas.pydata.org/pandas-docs/stable/user_guide/indexing.html#returning-a-view-versus-a-copy\n",
      "  \"\"\"Entry point for launching an IPython kernel.\n"
     ]
    }
   ],
   "source": [
    "pl_data_filt['binned_home_odds'] = pd.qcut(pl_data_filt['B365H'], 10, labels = range(1,11))"
   ]
  },
  {
   "cell_type": "code",
   "execution_count": 122,
   "id": "d0d39ba3",
   "metadata": {
    "ExecuteTime": {
     "end_time": "2021-04-06T10:27:46.461833Z",
     "start_time": "2021-04-06T10:27:46.433849Z"
    }
   },
   "outputs": [
    {
     "name": "stderr",
     "output_type": "stream",
     "text": [
      "C:\\Users\\georg\\OneDrive\\Documents\\odds_checker\\lib\\site-packages\\ipykernel_launcher.py:1: SettingWithCopyWarning: \n",
      "A value is trying to be set on a copy of a slice from a DataFrame.\n",
      "Try using .loc[row_indexer,col_indexer] = value instead\n",
      "\n",
      "See the caveats in the documentation: https://pandas.pydata.org/pandas-docs/stable/user_guide/indexing.html#returning-a-view-versus-a-copy\n",
      "  \"\"\"Entry point for launching an IPython kernel.\n",
      "C:\\Users\\georg\\OneDrive\\Documents\\odds_checker\\lib\\site-packages\\ipykernel_launcher.py:2: SettingWithCopyWarning: \n",
      "A value is trying to be set on a copy of a slice from a DataFrame.\n",
      "Try using .loc[row_indexer,col_indexer] = value instead\n",
      "\n",
      "See the caveats in the documentation: https://pandas.pydata.org/pandas-docs/stable/user_guide/indexing.html#returning-a-view-versus-a-copy\n",
      "  \n"
     ]
    }
   ],
   "source": [
    "pl_data_filt['binned_away_odds'] = pd.qcut(pl_data_filt['B365A'], 10, labels = range(1,11))\n",
    "pl_data_filt['binned_draw_odds'] = pd.qcut(pl_data_filt['B365D'], 10, labels = range(1,11))"
   ]
  },
  {
   "cell_type": "code",
   "execution_count": 141,
   "id": "82eda446",
   "metadata": {
    "ExecuteTime": {
     "end_time": "2021-04-06T10:48:01.606036Z",
     "start_time": "2021-04-06T10:48:01.571036Z"
    }
   },
   "outputs": [
    {
     "data": {
      "text/html": [
       "<div>\n",
       "<style scoped>\n",
       "    .dataframe tbody tr th:only-of-type {\n",
       "        vertical-align: middle;\n",
       "    }\n",
       "\n",
       "    .dataframe tbody tr th {\n",
       "        vertical-align: top;\n",
       "    }\n",
       "\n",
       "    .dataframe thead th {\n",
       "        text-align: right;\n",
       "    }\n",
       "</style>\n",
       "<table border=\"1\" class=\"dataframe\">\n",
       "  <thead>\n",
       "    <tr style=\"text-align: right;\">\n",
       "      <th></th>\n",
       "      <th>Date</th>\n",
       "      <th>HomeTeam</th>\n",
       "      <th>AwayTeam</th>\n",
       "      <th>FTR</th>\n",
       "      <th>FTHG</th>\n",
       "      <th>FTAG</th>\n",
       "      <th>B365H</th>\n",
       "      <th>B365D</th>\n",
       "      <th>B365A</th>\n",
       "      <th>binned_home_odds</th>\n",
       "      <th>binned_away_odds</th>\n",
       "      <th>binned_draw_odds</th>\n",
       "    </tr>\n",
       "  </thead>\n",
       "  <tbody>\n",
       "    <tr>\n",
       "      <th>0</th>\n",
       "      <td>11/08/2017</td>\n",
       "      <td>Arsenal</td>\n",
       "      <td>Leicester</td>\n",
       "      <td>H</td>\n",
       "      <td>4</td>\n",
       "      <td>3</td>\n",
       "      <td>0.653595</td>\n",
       "      <td>0.222222</td>\n",
       "      <td>0.153846</td>\n",
       "      <td>3</td>\n",
       "      <td>3</td>\n",
       "      <td>3</td>\n",
       "    </tr>\n",
       "    <tr>\n",
       "      <th>1</th>\n",
       "      <td>12/08/2017</td>\n",
       "      <td>Brighton</td>\n",
       "      <td>Man City</td>\n",
       "      <td>A</td>\n",
       "      <td>0</td>\n",
       "      <td>2</td>\n",
       "      <td>0.090909</td>\n",
       "      <td>0.181818</td>\n",
       "      <td>0.751880</td>\n",
       "      <td>10</td>\n",
       "      <td>10</td>\n",
       "      <td>2</td>\n",
       "    </tr>\n",
       "    <tr>\n",
       "      <th>2</th>\n",
       "      <td>12/08/2017</td>\n",
       "      <td>Chelsea</td>\n",
       "      <td>Burnley</td>\n",
       "      <td>A</td>\n",
       "      <td>2</td>\n",
       "      <td>3</td>\n",
       "      <td>0.800000</td>\n",
       "      <td>0.153846</td>\n",
       "      <td>0.066667</td>\n",
       "      <td>1</td>\n",
       "      <td>1</td>\n",
       "      <td>1</td>\n",
       "    </tr>\n",
       "    <tr>\n",
       "      <th>3</th>\n",
       "      <td>12/08/2017</td>\n",
       "      <td>Crystal Palace</td>\n",
       "      <td>Huddersfield</td>\n",
       "      <td>A</td>\n",
       "      <td>0</td>\n",
       "      <td>3</td>\n",
       "      <td>0.546448</td>\n",
       "      <td>0.277778</td>\n",
       "      <td>0.200000</td>\n",
       "      <td>4</td>\n",
       "      <td>3</td>\n",
       "      <td>6</td>\n",
       "    </tr>\n",
       "    <tr>\n",
       "      <th>4</th>\n",
       "      <td>12/08/2017</td>\n",
       "      <td>Everton</td>\n",
       "      <td>Stoke</td>\n",
       "      <td>H</td>\n",
       "      <td>1</td>\n",
       "      <td>0</td>\n",
       "      <td>0.588235</td>\n",
       "      <td>0.263158</td>\n",
       "      <td>0.173913</td>\n",
       "      <td>3</td>\n",
       "      <td>3</td>\n",
       "      <td>5</td>\n",
       "    </tr>\n",
       "    <tr>\n",
       "      <th>...</th>\n",
       "      <td>...</td>\n",
       "      <td>...</td>\n",
       "      <td>...</td>\n",
       "      <td>...</td>\n",
       "      <td>...</td>\n",
       "      <td>...</td>\n",
       "      <td>...</td>\n",
       "      <td>...</td>\n",
       "      <td>...</td>\n",
       "      <td>...</td>\n",
       "      <td>...</td>\n",
       "      <td>...</td>\n",
       "    </tr>\n",
       "    <tr>\n",
       "      <th>375</th>\n",
       "      <td>26/07/2020</td>\n",
       "      <td>Leicester</td>\n",
       "      <td>Man United</td>\n",
       "      <td>A</td>\n",
       "      <td>0</td>\n",
       "      <td>2</td>\n",
       "      <td>0.307692</td>\n",
       "      <td>0.285714</td>\n",
       "      <td>0.454545</td>\n",
       "      <td>8</td>\n",
       "      <td>8</td>\n",
       "      <td>7</td>\n",
       "    </tr>\n",
       "    <tr>\n",
       "      <th>376</th>\n",
       "      <td>26/07/2020</td>\n",
       "      <td>Man City</td>\n",
       "      <td>Norwich</td>\n",
       "      <td>H</td>\n",
       "      <td>5</td>\n",
       "      <td>0</td>\n",
       "      <td>0.925926</td>\n",
       "      <td>0.090909</td>\n",
       "      <td>0.038462</td>\n",
       "      <td>1</td>\n",
       "      <td>1</td>\n",
       "      <td>1</td>\n",
       "    </tr>\n",
       "    <tr>\n",
       "      <th>377</th>\n",
       "      <td>26/07/2020</td>\n",
       "      <td>Newcastle</td>\n",
       "      <td>Liverpool</td>\n",
       "      <td>A</td>\n",
       "      <td>1</td>\n",
       "      <td>3</td>\n",
       "      <td>0.133333</td>\n",
       "      <td>0.190476</td>\n",
       "      <td>0.735294</td>\n",
       "      <td>10</td>\n",
       "      <td>10</td>\n",
       "      <td>2</td>\n",
       "    </tr>\n",
       "    <tr>\n",
       "      <th>378</th>\n",
       "      <td>26/07/2020</td>\n",
       "      <td>Southampton</td>\n",
       "      <td>Sheffield United</td>\n",
       "      <td>H</td>\n",
       "      <td>3</td>\n",
       "      <td>1</td>\n",
       "      <td>0.465116</td>\n",
       "      <td>0.285714</td>\n",
       "      <td>0.303030</td>\n",
       "      <td>5</td>\n",
       "      <td>6</td>\n",
       "      <td>7</td>\n",
       "    </tr>\n",
       "    <tr>\n",
       "      <th>379</th>\n",
       "      <td>26/07/2020</td>\n",
       "      <td>West Ham</td>\n",
       "      <td>Aston Villa</td>\n",
       "      <td>D</td>\n",
       "      <td>1</td>\n",
       "      <td>1</td>\n",
       "      <td>0.333333</td>\n",
       "      <td>0.277778</td>\n",
       "      <td>0.434783</td>\n",
       "      <td>8</td>\n",
       "      <td>8</td>\n",
       "      <td>6</td>\n",
       "    </tr>\n",
       "  </tbody>\n",
       "</table>\n",
       "<p>1140 rows × 12 columns</p>\n",
       "</div>"
      ],
      "text/plain": [
       "           Date        HomeTeam          AwayTeam FTR  FTHG  FTAG     B365H  \\\n",
       "0    11/08/2017         Arsenal         Leicester   H     4     3  0.653595   \n",
       "1    12/08/2017        Brighton          Man City   A     0     2  0.090909   \n",
       "2    12/08/2017         Chelsea           Burnley   A     2     3  0.800000   \n",
       "3    12/08/2017  Crystal Palace      Huddersfield   A     0     3  0.546448   \n",
       "4    12/08/2017         Everton             Stoke   H     1     0  0.588235   \n",
       "..          ...             ...               ...  ..   ...   ...       ...   \n",
       "375  26/07/2020       Leicester        Man United   A     0     2  0.307692   \n",
       "376  26/07/2020        Man City           Norwich   H     5     0  0.925926   \n",
       "377  26/07/2020       Newcastle         Liverpool   A     1     3  0.133333   \n",
       "378  26/07/2020     Southampton  Sheffield United   H     3     1  0.465116   \n",
       "379  26/07/2020        West Ham       Aston Villa   D     1     1  0.333333   \n",
       "\n",
       "        B365D     B365A binned_home_odds binned_away_odds binned_draw_odds  \n",
       "0    0.222222  0.153846                3                3                3  \n",
       "1    0.181818  0.751880               10               10                2  \n",
       "2    0.153846  0.066667                1                1                1  \n",
       "3    0.277778  0.200000                4                3                6  \n",
       "4    0.263158  0.173913                3                3                5  \n",
       "..        ...       ...              ...              ...              ...  \n",
       "375  0.285714  0.454545                8                8                7  \n",
       "376  0.090909  0.038462                1                1                1  \n",
       "377  0.190476  0.735294               10               10                2  \n",
       "378  0.285714  0.303030                5                6                7  \n",
       "379  0.277778  0.434783                8                8                6  \n",
       "\n",
       "[1140 rows x 12 columns]"
      ]
     },
     "execution_count": 141,
     "metadata": {},
     "output_type": "execute_result"
    }
   ],
   "source": [
    "pl_data_filt"
   ]
  },
  {
   "cell_type": "code",
   "execution_count": 123,
   "id": "5a02f4f5",
   "metadata": {
    "ExecuteTime": {
     "end_time": "2021-04-06T10:28:03.038836Z",
     "start_time": "2021-04-06T10:28:03.017837Z"
    }
   },
   "outputs": [],
   "source": [
    "home_odds_perc = pl_data_filt[pl_data_filt['FTR'] == 'H'].groupby('binned_home_odds')['FTR'].count() / pl_data_filt.groupby('binned_home_odds')['FTR'].count()\n",
    "away_odds_perc = pl_data_filt[pl_data_filt['FTR'] == 'A'].groupby('binned_away_odds')['FTR'].count() / pl_data_filt.groupby('binned_away_odds')['FTR'].count()\n",
    "draw_odds_perc = pl_data_filt[pl_data_filt['FTR'] == 'D'].groupby('binned_draw_odds')['FTR'].count() / pl_data_filt.groupby('binned_draw_odds')['FTR'].count()"
   ]
  },
  {
   "cell_type": "code",
   "execution_count": 92,
   "id": "84c9c52a",
   "metadata": {
    "ExecuteTime": {
     "end_time": "2021-04-06T10:15:37.384252Z",
     "start_time": "2021-04-06T10:15:37.175238Z"
    }
   },
   "outputs": [
    {
     "data": {
      "text/plain": [
       "<seaborn.axisgrid.FacetGrid at 0x2ae41c74c88>"
      ]
     },
     "execution_count": 92,
     "metadata": {},
     "output_type": "execute_result"
    },
    {
     "data": {
      "image/png": "[encoded data removed]",
      "text/plain": [
       "<Figure size 360x360 with 1 Axes>"
      ]
     },
     "metadata": {
      "needs_background": "light"
     },
     "output_type": "display_data"
    }
   ],
   "source": [
    "sns.relplot(data = home_odds_perc)"
   ]
  },
  {
   "cell_type": "code",
   "execution_count": 93,
   "id": "6b57e3ae",
   "metadata": {
    "ExecuteTime": {
     "end_time": "2021-04-06T10:15:37.400120Z",
     "start_time": "2021-04-06T10:15:37.386251Z"
    }
   },
   "outputs": [],
   "source": [
    "# interestingly even across 4 years there are still some odd bumps as can be seen in the 7th decile\n",
    "# without taking into account the other odds though this doesn't actually let us compare\n",
    "# could add up all odds and get the ratios for how often this event should happen\n",
    "# nope, just 1/odds gives us probs"
   ]
  },
  {
   "cell_type": "code",
   "execution_count": 94,
   "id": "9e08783a",
   "metadata": {
    "ExecuteTime": {
     "end_time": "2021-04-06T10:15:37.522459Z",
     "start_time": "2021-04-06T10:15:37.512461Z"
    }
   },
   "outputs": [
    {
     "name": "stderr",
     "output_type": "stream",
     "text": [
      "C:\\Users\\georg\\OneDrive\\Documents\\odds_checker\\lib\\site-packages\\ipykernel_launcher.py:3: SettingWithCopyWarning: \n",
      "A value is trying to be set on a copy of a slice from a DataFrame.\n",
      "Try using .loc[row_indexer,col_indexer] = value instead\n",
      "\n",
      "See the caveats in the documentation: https://pandas.pydata.org/pandas-docs/stable/user_guide/indexing.html#returning-a-view-versus-a-copy\n",
      "  This is separate from the ipykernel package so we can avoid doing imports until\n"
     ]
    }
   ],
   "source": [
    "odds_list = ['B365H','B365D','B365A']\n",
    "for col in odds_list:\n",
    "    pl_data_filt[col] = 1 / pl_data_filt[col] "
   ]
  },
  {
   "cell_type": "code",
   "execution_count": 95,
   "id": "70d9d059",
   "metadata": {
    "ExecuteTime": {
     "end_time": "2021-04-06T10:15:37.709855Z",
     "start_time": "2021-04-06T10:15:37.689852Z"
    }
   },
   "outputs": [
    {
     "data": {
      "text/html": [
       "<div>\n",
       "<style scoped>\n",
       "    .dataframe tbody tr th:only-of-type {\n",
       "        vertical-align: middle;\n",
       "    }\n",
       "\n",
       "    .dataframe tbody tr th {\n",
       "        vertical-align: top;\n",
       "    }\n",
       "\n",
       "    .dataframe thead th {\n",
       "        text-align: right;\n",
       "    }\n",
       "</style>\n",
       "<table border=\"1\" class=\"dataframe\">\n",
       "  <thead>\n",
       "    <tr style=\"text-align: right;\">\n",
       "      <th></th>\n",
       "      <th>Date</th>\n",
       "      <th>HomeTeam</th>\n",
       "      <th>AwayTeam</th>\n",
       "      <th>FTR</th>\n",
       "      <th>FTHG</th>\n",
       "      <th>FTAG</th>\n",
       "      <th>B365H</th>\n",
       "      <th>B365D</th>\n",
       "      <th>B365A</th>\n",
       "      <th>binned_home_odds</th>\n",
       "    </tr>\n",
       "  </thead>\n",
       "  <tbody>\n",
       "    <tr>\n",
       "      <th>0</th>\n",
       "      <td>11/08/2017</td>\n",
       "      <td>Arsenal</td>\n",
       "      <td>Leicester</td>\n",
       "      <td>H</td>\n",
       "      <td>4</td>\n",
       "      <td>3</td>\n",
       "      <td>0.653595</td>\n",
       "      <td>0.222222</td>\n",
       "      <td>0.153846</td>\n",
       "      <td>3</td>\n",
       "    </tr>\n",
       "    <tr>\n",
       "      <th>1</th>\n",
       "      <td>12/08/2017</td>\n",
       "      <td>Brighton</td>\n",
       "      <td>Man City</td>\n",
       "      <td>A</td>\n",
       "      <td>0</td>\n",
       "      <td>2</td>\n",
       "      <td>0.090909</td>\n",
       "      <td>0.181818</td>\n",
       "      <td>0.751880</td>\n",
       "      <td>10</td>\n",
       "    </tr>\n",
       "    <tr>\n",
       "      <th>2</th>\n",
       "      <td>12/08/2017</td>\n",
       "      <td>Chelsea</td>\n",
       "      <td>Burnley</td>\n",
       "      <td>A</td>\n",
       "      <td>2</td>\n",
       "      <td>3</td>\n",
       "      <td>0.800000</td>\n",
       "      <td>0.153846</td>\n",
       "      <td>0.066667</td>\n",
       "      <td>1</td>\n",
       "    </tr>\n",
       "    <tr>\n",
       "      <th>3</th>\n",
       "      <td>12/08/2017</td>\n",
       "      <td>Crystal Palace</td>\n",
       "      <td>Huddersfield</td>\n",
       "      <td>A</td>\n",
       "      <td>0</td>\n",
       "      <td>3</td>\n",
       "      <td>0.546448</td>\n",
       "      <td>0.277778</td>\n",
       "      <td>0.200000</td>\n",
       "      <td>4</td>\n",
       "    </tr>\n",
       "    <tr>\n",
       "      <th>4</th>\n",
       "      <td>12/08/2017</td>\n",
       "      <td>Everton</td>\n",
       "      <td>Stoke</td>\n",
       "      <td>H</td>\n",
       "      <td>1</td>\n",
       "      <td>0</td>\n",
       "      <td>0.588235</td>\n",
       "      <td>0.263158</td>\n",
       "      <td>0.173913</td>\n",
       "      <td>3</td>\n",
       "    </tr>\n",
       "    <tr>\n",
       "      <th>...</th>\n",
       "      <td>...</td>\n",
       "      <td>...</td>\n",
       "      <td>...</td>\n",
       "      <td>...</td>\n",
       "      <td>...</td>\n",
       "      <td>...</td>\n",
       "      <td>...</td>\n",
       "      <td>...</td>\n",
       "      <td>...</td>\n",
       "      <td>...</td>\n",
       "    </tr>\n",
       "    <tr>\n",
       "      <th>375</th>\n",
       "      <td>26/07/2020</td>\n",
       "      <td>Leicester</td>\n",
       "      <td>Man United</td>\n",
       "      <td>A</td>\n",
       "      <td>0</td>\n",
       "      <td>2</td>\n",
       "      <td>0.307692</td>\n",
       "      <td>0.285714</td>\n",
       "      <td>0.454545</td>\n",
       "      <td>8</td>\n",
       "    </tr>\n",
       "    <tr>\n",
       "      <th>376</th>\n",
       "      <td>26/07/2020</td>\n",
       "      <td>Man City</td>\n",
       "      <td>Norwich</td>\n",
       "      <td>H</td>\n",
       "      <td>5</td>\n",
       "      <td>0</td>\n",
       "      <td>0.925926</td>\n",
       "      <td>0.090909</td>\n",
       "      <td>0.038462</td>\n",
       "      <td>1</td>\n",
       "    </tr>\n",
       "    <tr>\n",
       "      <th>377</th>\n",
       "      <td>26/07/2020</td>\n",
       "      <td>Newcastle</td>\n",
       "      <td>Liverpool</td>\n",
       "      <td>A</td>\n",
       "      <td>1</td>\n",
       "      <td>3</td>\n",
       "      <td>0.133333</td>\n",
       "      <td>0.190476</td>\n",
       "      <td>0.735294</td>\n",
       "      <td>10</td>\n",
       "    </tr>\n",
       "    <tr>\n",
       "      <th>378</th>\n",
       "      <td>26/07/2020</td>\n",
       "      <td>Southampton</td>\n",
       "      <td>Sheffield United</td>\n",
       "      <td>H</td>\n",
       "      <td>3</td>\n",
       "      <td>1</td>\n",
       "      <td>0.465116</td>\n",
       "      <td>0.285714</td>\n",
       "      <td>0.303030</td>\n",
       "      <td>5</td>\n",
       "    </tr>\n",
       "    <tr>\n",
       "      <th>379</th>\n",
       "      <td>26/07/2020</td>\n",
       "      <td>West Ham</td>\n",
       "      <td>Aston Villa</td>\n",
       "      <td>D</td>\n",
       "      <td>1</td>\n",
       "      <td>1</td>\n",
       "      <td>0.333333</td>\n",
       "      <td>0.277778</td>\n",
       "      <td>0.434783</td>\n",
       "      <td>8</td>\n",
       "    </tr>\n",
       "  </tbody>\n",
       "</table>\n",
       "<p>1140 rows × 10 columns</p>\n",
       "</div>"
      ],
      "text/plain": [
       "           Date        HomeTeam          AwayTeam FTR  FTHG  FTAG     B365H  \\\n",
       "0    11/08/2017         Arsenal         Leicester   H     4     3  0.653595   \n",
       "1    12/08/2017        Brighton          Man City   A     0     2  0.090909   \n",
       "2    12/08/2017         Chelsea           Burnley   A     2     3  0.800000   \n",
       "3    12/08/2017  Crystal Palace      Huddersfield   A     0     3  0.546448   \n",
       "4    12/08/2017         Everton             Stoke   H     1     0  0.588235   \n",
       "..          ...             ...               ...  ..   ...   ...       ...   \n",
       "375  26/07/2020       Leicester        Man United   A     0     2  0.307692   \n",
       "376  26/07/2020        Man City           Norwich   H     5     0  0.925926   \n",
       "377  26/07/2020       Newcastle         Liverpool   A     1     3  0.133333   \n",
       "378  26/07/2020     Southampton  Sheffield United   H     3     1  0.465116   \n",
       "379  26/07/2020        West Ham       Aston Villa   D     1     1  0.333333   \n",
       "\n",
       "        B365D     B365A binned_home_odds  \n",
       "0    0.222222  0.153846                3  \n",
       "1    0.181818  0.751880               10  \n",
       "2    0.153846  0.066667                1  \n",
       "3    0.277778  0.200000                4  \n",
       "4    0.263158  0.173913                3  \n",
       "..        ...       ...              ...  \n",
       "375  0.285714  0.454545                8  \n",
       "376  0.090909  0.038462                1  \n",
       "377  0.190476  0.735294               10  \n",
       "378  0.285714  0.303030                5  \n",
       "379  0.277778  0.434783                8  \n",
       "\n",
       "[1140 rows x 10 columns]"
      ]
     },
     "execution_count": 95,
     "metadata": {},
     "output_type": "execute_result"
    }
   ],
   "source": [
    "pl_data_filt"
   ]
  },
  {
   "cell_type": "markdown",
   "id": "d93c550c",
   "metadata": {},
   "source": [
    "### Home Preds"
   ]
  },
  {
   "cell_type": "code",
   "execution_count": 96,
   "id": "f41436e5",
   "metadata": {
    "ExecuteTime": {
     "end_time": "2021-04-06T10:15:37.866777Z",
     "start_time": "2021-04-06T10:15:37.849777Z"
    }
   },
   "outputs": [],
   "source": [
    "home_odds_pred = pl_data_filt.groupby('binned_home_odds')['B365H'].mean()"
   ]
  },
  {
   "cell_type": "code",
   "execution_count": 97,
   "id": "d15e0d99",
   "metadata": {
    "ExecuteTime": {
     "end_time": "2021-04-06T10:15:38.025239Z",
     "start_time": "2021-04-06T10:15:38.007238Z"
    }
   },
   "outputs": [
    {
     "data": {
      "text/plain": [
       "binned_home_odds\n",
       "1     0.852545\n",
       "2     0.738330\n",
       "3     0.612704\n",
       "4     0.525820\n",
       "5     0.466500\n",
       "6     0.417968\n",
       "7     0.370682\n",
       "8     0.299880\n",
       "9     0.206383\n",
       "10    0.109926\n",
       "Name: B365H, dtype: float64"
      ]
     },
     "execution_count": 97,
     "metadata": {},
     "output_type": "execute_result"
    }
   ],
   "source": [
    "home_odds_pred"
   ]
  },
  {
   "cell_type": "code",
   "execution_count": 116,
   "id": "c8a05baa",
   "metadata": {
    "ExecuteTime": {
     "end_time": "2021-04-06T10:22:20.278264Z",
     "start_time": "2021-04-06T10:22:20.256265Z"
    }
   },
   "outputs": [],
   "source": [
    "combined_home_odds = pd.merge(home_odds_perc,home_odds_pred, left_index=True,right_index=True)"
   ]
  },
  {
   "cell_type": "code",
   "execution_count": 117,
   "id": "1630f4d3",
   "metadata": {
    "ExecuteTime": {
     "end_time": "2021-04-06T10:22:20.695301Z",
     "start_time": "2021-04-06T10:22:20.680302Z"
    }
   },
   "outputs": [],
   "source": [
    "combined_home_odds.reset_index(inplace=True)"
   ]
  },
  {
   "cell_type": "code",
   "execution_count": 118,
   "id": "6ea7a8e9",
   "metadata": {
    "ExecuteTime": {
     "end_time": "2021-04-06T10:22:21.126302Z",
     "start_time": "2021-04-06T10:22:21.112303Z"
    }
   },
   "outputs": [],
   "source": [
    "combined_home_odds['binned_home_odds'] = combined_home_odds['binned_home_odds'].astype(str)"
   ]
  },
  {
   "cell_type": "code",
   "execution_count": 119,
   "id": "93282339",
   "metadata": {
    "ExecuteTime": {
     "end_time": "2021-04-06T10:22:21.591304Z",
     "start_time": "2021-04-06T10:22:21.576302Z"
    }
   },
   "outputs": [],
   "source": [
    "combined_home_odds = pd.melt(combined_home_odds, id_vars = 'binned_home_odds', var_name = 'Outcome',value_name = 'odds')"
   ]
  },
  {
   "cell_type": "code",
   "execution_count": 120,
   "id": "10fae5bb",
   "metadata": {
    "ExecuteTime": {
     "end_time": "2021-04-06T10:22:22.191318Z",
     "start_time": "2021-04-06T10:22:22.169332Z"
    },
    "scrolled": true
   },
   "outputs": [
    {
     "data": {
      "text/html": [
       "<div>\n",
       "<style scoped>\n",
       "    .dataframe tbody tr th:only-of-type {\n",
       "        vertical-align: middle;\n",
       "    }\n",
       "\n",
       "    .dataframe tbody tr th {\n",
       "        vertical-align: top;\n",
       "    }\n",
       "\n",
       "    .dataframe thead th {\n",
       "        text-align: right;\n",
       "    }\n",
       "</style>\n",
       "<table border=\"1\" class=\"dataframe\">\n",
       "  <thead>\n",
       "    <tr style=\"text-align: right;\">\n",
       "      <th></th>\n",
       "      <th>binned_home_odds</th>\n",
       "      <th>Outcome</th>\n",
       "      <th>odds</th>\n",
       "    </tr>\n",
       "  </thead>\n",
       "  <tbody>\n",
       "    <tr>\n",
       "      <th>0</th>\n",
       "      <td>1</td>\n",
       "      <td>FTR</td>\n",
       "      <td>0.826087</td>\n",
       "    </tr>\n",
       "    <tr>\n",
       "      <th>1</th>\n",
       "      <td>2</td>\n",
       "      <td>FTR</td>\n",
       "      <td>0.728814</td>\n",
       "    </tr>\n",
       "    <tr>\n",
       "      <th>2</th>\n",
       "      <td>3</td>\n",
       "      <td>FTR</td>\n",
       "      <td>0.626087</td>\n",
       "    </tr>\n",
       "    <tr>\n",
       "      <th>3</th>\n",
       "      <td>4</td>\n",
       "      <td>FTR</td>\n",
       "      <td>0.513761</td>\n",
       "    </tr>\n",
       "    <tr>\n",
       "      <th>4</th>\n",
       "      <td>5</td>\n",
       "      <td>FTR</td>\n",
       "      <td>0.424779</td>\n",
       "    </tr>\n",
       "    <tr>\n",
       "      <th>5</th>\n",
       "      <td>6</td>\n",
       "      <td>FTR</td>\n",
       "      <td>0.362069</td>\n",
       "    </tr>\n",
       "    <tr>\n",
       "      <th>6</th>\n",
       "      <td>7</td>\n",
       "      <td>FTR</td>\n",
       "      <td>0.384000</td>\n",
       "    </tr>\n",
       "    <tr>\n",
       "      <th>7</th>\n",
       "      <td>8</td>\n",
       "      <td>FTR</td>\n",
       "      <td>0.313725</td>\n",
       "    </tr>\n",
       "    <tr>\n",
       "      <th>8</th>\n",
       "      <td>9</td>\n",
       "      <td>FTR</td>\n",
       "      <td>0.279661</td>\n",
       "    </tr>\n",
       "    <tr>\n",
       "      <th>9</th>\n",
       "      <td>10</td>\n",
       "      <td>FTR</td>\n",
       "      <td>0.128440</td>\n",
       "    </tr>\n",
       "    <tr>\n",
       "      <th>10</th>\n",
       "      <td>1</td>\n",
       "      <td>B365H</td>\n",
       "      <td>0.852545</td>\n",
       "    </tr>\n",
       "    <tr>\n",
       "      <th>11</th>\n",
       "      <td>2</td>\n",
       "      <td>B365H</td>\n",
       "      <td>0.738330</td>\n",
       "    </tr>\n",
       "    <tr>\n",
       "      <th>12</th>\n",
       "      <td>3</td>\n",
       "      <td>B365H</td>\n",
       "      <td>0.612704</td>\n",
       "    </tr>\n",
       "    <tr>\n",
       "      <th>13</th>\n",
       "      <td>4</td>\n",
       "      <td>B365H</td>\n",
       "      <td>0.525820</td>\n",
       "    </tr>\n",
       "    <tr>\n",
       "      <th>14</th>\n",
       "      <td>5</td>\n",
       "      <td>B365H</td>\n",
       "      <td>0.466500</td>\n",
       "    </tr>\n",
       "    <tr>\n",
       "      <th>15</th>\n",
       "      <td>6</td>\n",
       "      <td>B365H</td>\n",
       "      <td>0.417968</td>\n",
       "    </tr>\n",
       "    <tr>\n",
       "      <th>16</th>\n",
       "      <td>7</td>\n",
       "      <td>B365H</td>\n",
       "      <td>0.370682</td>\n",
       "    </tr>\n",
       "    <tr>\n",
       "      <th>17</th>\n",
       "      <td>8</td>\n",
       "      <td>B365H</td>\n",
       "      <td>0.299880</td>\n",
       "    </tr>\n",
       "    <tr>\n",
       "      <th>18</th>\n",
       "      <td>9</td>\n",
       "      <td>B365H</td>\n",
       "      <td>0.206383</td>\n",
       "    </tr>\n",
       "    <tr>\n",
       "      <th>19</th>\n",
       "      <td>10</td>\n",
       "      <td>B365H</td>\n",
       "      <td>0.109926</td>\n",
       "    </tr>\n",
       "  </tbody>\n",
       "</table>\n",
       "</div>"
      ],
      "text/plain": [
       "   binned_home_odds Outcome      odds\n",
       "0                 1     FTR  0.826087\n",
       "1                 2     FTR  0.728814\n",
       "2                 3     FTR  0.626087\n",
       "3                 4     FTR  0.513761\n",
       "4                 5     FTR  0.424779\n",
       "5                 6     FTR  0.362069\n",
       "6                 7     FTR  0.384000\n",
       "7                 8     FTR  0.313725\n",
       "8                 9     FTR  0.279661\n",
       "9                10     FTR  0.128440\n",
       "10                1   B365H  0.852545\n",
       "11                2   B365H  0.738330\n",
       "12                3   B365H  0.612704\n",
       "13                4   B365H  0.525820\n",
       "14                5   B365H  0.466500\n",
       "15                6   B365H  0.417968\n",
       "16                7   B365H  0.370682\n",
       "17                8   B365H  0.299880\n",
       "18                9   B365H  0.206383\n",
       "19               10   B365H  0.109926"
      ]
     },
     "execution_count": 120,
     "metadata": {},
     "output_type": "execute_result"
    }
   ],
   "source": [
    "combined_home_odds"
   ]
  },
  {
   "cell_type": "code",
   "execution_count": 121,
   "id": "a531d2cc",
   "metadata": {
    "ExecuteTime": {
     "end_time": "2021-04-06T10:22:41.393672Z",
     "start_time": "2021-04-06T10:22:41.131654Z"
    }
   },
   "outputs": [
    {
     "data": {
      "text/plain": [
       "<AxesSubplot:xlabel='binned_home_odds', ylabel='odds'>"
      ]
     },
     "execution_count": 121,
     "metadata": {},
     "output_type": "execute_result"
    },
    {
     "data": {
      "image/png": "[encoded data removed]",
      "text/plain": [
       "<Figure size 432x288 with 1 Axes>"
      ]
     },
     "metadata": {
      "needs_background": "light"
     },
     "output_type": "display_data"
    }
   ],
   "source": [
    "sns.barplot(x = 'binned_home_odds', y ='odds', hue = 'Outcome', data= combined_home_odds)"
   ]
  },
  {
   "cell_type": "code",
   "execution_count": null,
   "id": "30e67a63",
   "metadata": {},
   "outputs": [],
   "source": [
    "# so the events bet365 is almost certain about don't happen quite as often\n",
    "# conversely unlikely events happen slightly more often\n",
    "# I would have expected the opposite, I thought people love an underdog"
   ]
  },
  {
   "cell_type": "markdown",
   "id": "6243ba20",
   "metadata": {},
   "source": [
    "### Away Preds"
   ]
  },
  {
   "cell_type": "code",
   "execution_count": null,
   "id": "0dd90feb",
   "metadata": {},
   "outputs": [],
   "source": [
    "# god I could have done this more efficiently"
   ]
  },
  {
   "cell_type": "code",
   "execution_count": 124,
   "id": "754c7bce",
   "metadata": {
    "ExecuteTime": {
     "end_time": "2021-04-06T10:29:02.566866Z",
     "start_time": "2021-04-06T10:29:02.553862Z"
    }
   },
   "outputs": [],
   "source": [
    "# check away odds now\n",
    "away_odds_pred = pl_data_filt.groupby('binned_away_odds')['B365A'].mean()"
   ]
  },
  {
   "cell_type": "code",
   "execution_count": 125,
   "id": "77a2bb54",
   "metadata": {
    "ExecuteTime": {
     "end_time": "2021-04-06T10:30:33.180284Z",
     "start_time": "2021-04-06T10:30:33.163296Z"
    }
   },
   "outputs": [],
   "source": [
    "combined_away_odds = pd.merge(away_odds_perc,away_odds_pred, left_index=True,right_index=True)"
   ]
  },
  {
   "cell_type": "code",
   "execution_count": 128,
   "id": "5a6ee545",
   "metadata": {
    "ExecuteTime": {
     "end_time": "2021-04-06T10:31:18.772167Z",
     "start_time": "2021-04-06T10:31:18.755167Z"
    }
   },
   "outputs": [],
   "source": [
    "combined_away_odds.reset_index(inplace=True)"
   ]
  },
  {
   "cell_type": "code",
   "execution_count": 129,
   "id": "9d28f91c",
   "metadata": {
    "ExecuteTime": {
     "end_time": "2021-04-06T10:31:20.132591Z",
     "start_time": "2021-04-06T10:31:20.113590Z"
    }
   },
   "outputs": [],
   "source": [
    "combined_away_odds = pd.melt(combined_away_odds, id_vars = 'binned_away_odds', var_name = 'Outcome',value_name = 'odds')"
   ]
  },
  {
   "cell_type": "code",
   "execution_count": 130,
   "id": "a86a3b57",
   "metadata": {
    "ExecuteTime": {
     "end_time": "2021-04-06T10:31:31.131749Z",
     "start_time": "2021-04-06T10:31:30.881747Z"
    }
   },
   "outputs": [
    {
     "data": {
      "text/plain": [
       "<AxesSubplot:xlabel='binned_away_odds', ylabel='odds'>"
      ]
     },
     "execution_count": 130,
     "metadata": {},
     "output_type": "execute_result"
    },
    {
     "data": {
      "image/png": "[encoded data removed]",
      "text/plain": [
       "<Figure size 432x288 with 1 Axes>"
      ]
     },
     "metadata": {
      "needs_background": "light"
     },
     "output_type": "display_data"
    }
   ],
   "source": [
    "sns.barplot(x = 'binned_away_odds', y ='odds', hue = 'Outcome', data= combined_away_odds)"
   ]
  },
  {
   "cell_type": "code",
   "execution_count": null,
   "id": "16eded1a",
   "metadata": {},
   "outputs": [],
   "source": [
    "# so in this case the most certain away wins actually happen more than expected\n",
    "# this doesn't include this season with the weird covid situation"
   ]
  },
  {
   "cell_type": "markdown",
   "id": "7fc9057a",
   "metadata": {},
   "source": [
    "### Draw Preds"
   ]
  },
  {
   "cell_type": "code",
   "execution_count": 136,
   "id": "faeedbca",
   "metadata": {
    "ExecuteTime": {
     "end_time": "2021-04-06T10:35:14.292917Z",
     "start_time": "2021-04-06T10:35:14.281918Z"
    }
   },
   "outputs": [],
   "source": [
    "# check away odds now\n",
    "draw_odds_pred = pl_data_filt.groupby('binned_draw_odds')['B365D'].mean()"
   ]
  },
  {
   "cell_type": "code",
   "execution_count": 137,
   "id": "51b64e7e",
   "metadata": {
    "ExecuteTime": {
     "end_time": "2021-04-06T10:35:14.771972Z",
     "start_time": "2021-04-06T10:35:14.752971Z"
    }
   },
   "outputs": [],
   "source": [
    "combined_draw_odds = pd.merge(draw_odds_perc,draw_odds_pred, left_index=True,right_index=True)"
   ]
  },
  {
   "cell_type": "code",
   "execution_count": 138,
   "id": "5dab8076",
   "metadata": {
    "ExecuteTime": {
     "end_time": "2021-04-06T10:35:15.065426Z",
     "start_time": "2021-04-06T10:35:15.048426Z"
    }
   },
   "outputs": [],
   "source": [
    "combined_draw_odds.reset_index(inplace=True)"
   ]
  },
  {
   "cell_type": "code",
   "execution_count": 139,
   "id": "50991f7e",
   "metadata": {
    "ExecuteTime": {
     "end_time": "2021-04-06T10:35:15.252426Z",
     "start_time": "2021-04-06T10:35:15.240425Z"
    }
   },
   "outputs": [],
   "source": [
    "combined_draw_odds = pd.melt(combined_draw_odds, id_vars = 'binned_draw_odds', var_name = 'Outcome',value_name = 'odds')"
   ]
  },
  {
   "cell_type": "code",
   "execution_count": 140,
   "id": "3c835167",
   "metadata": {
    "ExecuteTime": {
     "end_time": "2021-04-06T10:35:15.678633Z",
     "start_time": "2021-04-06T10:35:15.409428Z"
    }
   },
   "outputs": [
    {
     "data": {
      "text/plain": [
       "<AxesSubplot:xlabel='binned_draw_odds', ylabel='odds'>"
      ]
     },
     "execution_count": 140,
     "metadata": {},
     "output_type": "execute_result"
    },
    {
     "data": {
      "image/png": "[encoded data removed]",
      "text/plain": [
       "<Figure size 432x288 with 1 Axes>"
      ]
     },
     "metadata": {
      "needs_background": "light"
     },
     "output_type": "display_data"
    }
   ],
   "source": [
    "sns.barplot(x = 'binned_draw_odds', y ='odds', hue = 'Outcome', data= combined_draw_odds)"
   ]
  },
  {
   "cell_type": "code",
   "execution_count": null,
   "id": "95452aa0",
   "metadata": {},
   "outputs": [],
   "source": [
    "# when b365 thinks a draw is rare it's actually EVEN rarer\n",
    "# when it thinks a draw is likely, it tends to happen\n",
    "# although the scale on this is way lower than the others"
   ]
  },
  {
   "cell_type": "code",
   "execution_count": null,
   "id": "f1054d61",
   "metadata": {},
   "outputs": [],
   "source": [
    "# could compute AUC metrics for B365.... maybe come back"
   ]
  },
  {
   "cell_type": "markdown",
   "id": "9b6ae50c",
   "metadata": {},
   "source": [
    "# Forecaster Data"
   ]
  },
  {
   "cell_type": "markdown",
   "id": "d683208c",
   "metadata": {},
   "source": [
    "## Get 538 data"
   ]
  },
  {
   "cell_type": "code",
   "execution_count": null,
   "id": "b23e773f",
   "metadata": {},
   "outputs": [],
   "source": [
    "# 538 helpfully provide csvs going back to 2016 for their club football forecasts\n"
   ]
  },
  {
   "cell_type": "code",
   "execution_count": null,
   "id": "c85e168b",
   "metadata": {},
   "outputs": [],
   "source": []
  },
  {
   "cell_type": "code",
   "execution_count": null,
   "id": "ce251938",
   "metadata": {},
   "outputs": [],
   "source": []
  }
 ],
 "metadata": {
  "kernelspec": {
   "display_name": "odds_checker",
   "language": "python",
   "name": "odds_checker"
  },
  "language_info": {
   "codemirror_mode": {
    "name": "ipython",
    "version": 3
   },
   "file_extension": ".py",
   "mimetype": "text/x-python",
   "name": "python",
   "nbconvert_exporter": "python",
   "pygments_lexer": "ipython3",
   "version": "3.7.3"
  },
  "toc": {
   "base_numbering": 1,
   "nav_menu": {},
   "number_sections": true,
   "sideBar": true,
   "skip_h1_title": false,
   "title_cell": "Table of Contents",
   "title_sidebar": "Contents",
   "toc_cell": false,
   "toc_position": {},
   "toc_section_display": true,
   "toc_window_display": true
  }
 },
 "nbformat": 4,
 "nbformat_minor": 5
}
